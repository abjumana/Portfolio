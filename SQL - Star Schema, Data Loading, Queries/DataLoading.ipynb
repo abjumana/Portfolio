{
    "cells": [
        {
            "attachments": {},
            "cell_type": "markdown",
            "metadata": {
                "azdata_cell_guid": "b19d41a9-ab0f-4ef1-a45e-2dc945d52407"
            },
            "source": [
                "# <svg xmlns=\"http://www.w3.org/2000/svg\" height=\"32\" width=\"32\" viewBox=\"0 0 512 512\"><!--!Font Awesome Free 6.5.1 by @fontawesome - https://fontawesome.com License - https://fontawesome.com/license/free Copyright 2023 Fonticons, Inc.--><path fill=\"#444444\" d=\"M288 32c0-17.7-14.3-32-32-32s-32 14.3-32 32V274.7l-73.4-73.4c-12.5-12.5-32.8-12.5-45.3 0s-12.5 32.8 0 45.3l128 128c12.5 12.5 32.8 12.5 45.3 0l128-128c12.5-12.5 12.5-32.8 0-45.3s-32.8-12.5-45.3 0L288 274.7V32zM64 352c-35.3 0-64 28.7-64 64v32c0 35.3 28.7 64 64 64H448c35.3 0 64-28.7 64-64V416c0-35.3-28.7-64-64-64H346.5l-45.3 45.3c-25 25-65.5 25-90.5 0L165.5 352H64zm368 56a24 24 0 1 1 0 48 24 24 0 1 1 0-48z\"/></svg> **Data Loading into Database**\n",
                "## I loaded the <svg xmlns=\"http://www.w3.org/2000/svg\" height=\"20\" width=\"17.5\" viewBox=\"0 0 448 512\"><!--!Font Awesome Free 6.5.1 by @fontawesome - https://fontawesome.com License - https://fontawesome.com/license/free Copyright 2023 Fonticons, Inc.--><path fill=\"#4d22b3\" d=\"M448 80v48c0 44.2-100.3 80-224 80S0 172.2 0 128V80C0 35.8 100.3 0 224 0S448 35.8 448 80zM393.2 214.7c20.8-7.4 39.9-16.9 54.8-28.6V288c0 44.2-100.3 80-224 80S0 332.2 0 288V186.1c14.9 11.8 34 21.2 54.8 28.6C99.7 230.7 159.5 240 224 240s124.3-9.3 169.2-25.3zM0 346.1c14.9 11.8 34 21.2 54.8 28.6C99.7 390.7 159.5 400 224 400s124.3-9.3 169.2-25.3c20.8-7.4 39.9-16.9 54.8-28.6V432c0 44.2-100.3 80-224 80S0 476.2 0 432V346.1z\"/></svg> <font color='#4d22b3'>**Northwind**</font> sample database into the <svg xmlns=\"http://www.w3.org/2000/svg\" height=\"20\" width=\"17.5\" viewBox=\"0 0 448 512\"><!--!Font Awesome Free 6.5.1 by @fontawesome - https://fontawesome.com License - https://fontawesome.com/license/free Copyright 2023 Fonticons, Inc.--><path fill=\"#4d22b3\" d=\"M448 80v48c0 44.2-100.3 80-224 80S0 172.2 0 128V80C0 35.8 100.3 0 224 0S448 35.8 448 80zM393.2 214.7c20.8-7.4 39.9-16.9 54.8-28.6V288c0 44.2-100.3 80-224 80S0 332.2 0 288V186.1c14.9 11.8 34 21.2 54.8 28.6C99.7 230.7 159.5 240 224 240s124.3-9.3 169.2-25.3zM0 346.1c14.9 11.8 34 21.2 54.8 28.6C99.7 390.7 159.5 400 224 400s124.3-9.3 169.2-25.3c20.8-7.4 39.9-16.9 54.8-28.6V432c0 44.2-100.3 80-224 80S0 476.2 0 432V346.1z\"/></svg> <font color='#4d22b3'>**TargetMart**</font> database that I created in my Database Design class. This notebook shows how the data was loaded for 3 of the tables (their schema script can be found in my repository)."
            ]
        },
        {
            "attachments": {},
            "cell_type": "markdown",
            "metadata": {
                "azdata_cell_guid": "f93db989-86a0-4dee-ad01-018c342c267d"
            },
            "source": [
                "### Customers Dimension Table\n",
                "<svg xmlns=\"http://www.w3.org/2000/svg\" height=\"10\" width=\"10\" viewBox=\"0 0 512 512\"><!--!Font Awesome Free 6.5.1 by @fontawesome - https://fontawesome.com License - https://fontawesome.com/license/free Copyright 2023 Fonticons, Inc.--><path fill=\"#0061ff\" d=\"M256 512A256 256 0 1 0 256 0a256 256 0 1 0 0 512z\"/></svg> _I am using left outer join and where clauses to ensure no records are duplicated when the code is run multiple times_"
            ]
        },
        {
            "cell_type": "code",
            "execution_count": null,
            "metadata": {
                "azdata_cell_guid": "d67d8cc7-e550-4845-a55f-231b81ddb381",
                "language": "sql"
            },
            "outputs": [],
            "source": [
                "INSERT INTO dim.Customers(CustomerID, Customer, City, Country, LoadDate)\n",
                "SELECT sC.CustomerID\n",
                "\t  ,sC.CompanyName \n",
                "\t  ,sC.City\n",
                "\t  ,sC.Country\n",
                "\t  ,CAST(getdate() as DATE)\n",
                "FROM Northwind_2023.dbo.Customers as sC\n",
                "\tLEFT OUTER JOIN TargetMart.dim.Customers as tCus\n",
                "\tON sC.CustomerID = tCus.CustomerID\n",
                "WHERE tCus.CustomerID is NULL"
            ]
        },
        {
            "attachments": {},
            "cell_type": "markdown",
            "metadata": {
                "azdata_cell_guid": "795a4b80-897e-4002-90fa-82c06e027061",
                "language": "sql"
            },
            "source": [
                "<svg xmlns=\"http://www.w3.org/2000/svg\" height=\"10\" width=\"10\" viewBox=\"0 0 512 512\"><!--!Font Awesome Free 6.5.1 by @fontawesome - https://fontawesome.com License - https://fontawesome.com/license/free Copyright 2023 Fonticons, Inc.--><path fill=\"#0061ff\" d=\"M256 512A256 256 0 1 0 256 0a256 256 0 1 0 0 512z\"/></svg> _These are the top 5 records in the table._"
            ]
        },
        {
            "cell_type": "code",
            "execution_count": 3,
            "metadata": {
                "azdata_cell_guid": "1cccc324-f70e-47d4-9f53-e2795b05a901",
                "language": "sql",
                "tags": [
                    "hide_input"
                ]
            },
            "outputs": [
                {
                    "data": {
                        "text/html": [
                            "(5 rows affected)"
                        ]
                    },
                    "metadata": {},
                    "output_type": "display_data"
                },
                {
                    "data": {
                        "text/html": [
                            "Total execution time: 00:00:00.083"
                        ]
                    },
                    "metadata": {},
                    "output_type": "display_data"
                },
                {
                    "data": {
                        "application/vnd.dataresource+json": {
                            "data": [
                                {
                                    "City": "Berlin",
                                    "Country": "Germany",
                                    "Customer": "Alfreds Futterkiste",
                                    "CustomerID": "ALFKI",
                                    "LoadDate": "2023-12-08",
                                    "pkCustomer": "1000"
                                },
                                {
                                    "City": "México D.F.",
                                    "Country": "Mexico",
                                    "Customer": "Ana Trujillo Emparedados y helados",
                                    "CustomerID": "ANATR",
                                    "LoadDate": "2023-12-08",
                                    "pkCustomer": "1001"
                                },
                                {
                                    "City": "México D.F.",
                                    "Country": "Mexico",
                                    "Customer": "Antonio Moreno Taquería",
                                    "CustomerID": "ANTON",
                                    "LoadDate": "2023-12-08",
                                    "pkCustomer": "1002"
                                },
                                {
                                    "City": "London",
                                    "Country": "UK",
                                    "Customer": "Around the Horn",
                                    "CustomerID": "AROUT",
                                    "LoadDate": "2023-12-08",
                                    "pkCustomer": "1003"
                                },
                                {
                                    "City": "Luleå",
                                    "Country": "Sweden",
                                    "Customer": "Berglunds snabbköp",
                                    "CustomerID": "BERGS",
                                    "LoadDate": "2023-12-08",
                                    "pkCustomer": "1004"
                                }
                            ],
                            "schema": {
                                "fields": [
                                    {
                                        "name": "pkCustomer"
                                    },
                                    {
                                        "name": "CustomerID"
                                    },
                                    {
                                        "name": "Customer"
                                    },
                                    {
                                        "name": "City"
                                    },
                                    {
                                        "name": "Country"
                                    },
                                    {
                                        "name": "LoadDate"
                                    }
                                ]
                            }
                        },
                        "text/html": [
                            "<table><tr><th>pkCustomer</th><th>CustomerID</th><th>Customer</th><th>City</th><th>Country</th><th>LoadDate</th></tr><tr><td>1000</td><td>ALFKI</td><td>Alfreds Futterkiste</td><td>Berlin</td><td>Germany</td><td>2023-12-08</td></tr><tr><td>1001</td><td>ANATR</td><td>Ana Trujillo Emparedados y helados</td><td>México D.F.</td><td>Mexico</td><td>2023-12-08</td></tr><tr><td>1002</td><td>ANTON</td><td>Antonio Moreno Taquería</td><td>México D.F.</td><td>Mexico</td><td>2023-12-08</td></tr><tr><td>1003</td><td>AROUT</td><td>Around the Horn</td><td>London</td><td>UK</td><td>2023-12-08</td></tr><tr><td>1004</td><td>BERGS</td><td>Berglunds snabbköp</td><td>Luleå</td><td>Sweden</td><td>2023-12-08</td></tr></table>"
                        ]
                    },
                    "execution_count": 3,
                    "metadata": {},
                    "output_type": "execute_result"
                }
            ],
            "source": [
                "SELECT TOP 5 *\n",
                "FROM TargetMart.dim.Customers\n",
                "ORDER BY 1 ASC"
            ]
        },
        {
            "attachments": {},
            "cell_type": "markdown",
            "metadata": {
                "azdata_cell_guid": "d63424a0-f046-427a-8cba-919c44f000ba",
                "language": "sql"
            },
            "source": [
                "### Calendar Dimension Table\n",
                "<svg xmlns=\"http://www.w3.org/2000/svg\" height=\"10\" width=\"10\" viewBox=\"0 0 512 512\"><!--!Font Awesome Free 6.5.1 by @fontawesome - https://fontawesome.com License - https://fontawesome.com/license/free Copyright 2023 Fonticons, Inc.--><path fill=\"#0061ff\" d=\"M256 512A256 256 0 1 0 256 0a256 256 0 1 0 0 512z\"/></svg> _The Northwind data starts in 2021 which this calendar reflects. It will also add dates up to a year after the load date._\n"
            ]
        },
        {
            "cell_type": "code",
            "execution_count": null,
            "metadata": {
                "azdata_cell_guid": "3094dc97-cc9c-4da2-aefd-d7642d67e649",
                "language": "sql",
                "tags": [
                    "hide_input"
                ]
            },
            "outputs": [],
            "source": [
                "IF (SELECT count(*) FROM dim.calendar) = 0\n",
                "\n",
                "BEGIN\n",
                "    DECLARE @StartDate DATE = '2021-01-01'\n",
                "    DECLARE @EndDate DATE = DATEADD(year, 1, GETDATE())\n",
                "    DECLARE @Date DATE = @StartDate\n",
                "    DECLARE @DayID INT;\n",
                "\n",
                "    WHILE @Date <= @EndDate\n",
                "        \n",
                "    BEGIN\n",
                "        SET @DayID = CAST(FORMAT(@Date, 'yyyyMMdd') AS INT);\n",
                "        INSERT INTO dim.Calendar(pkCalendar, DateValue, Year, Quarter, Month, MonthName, MonthShort, WeekOfYear, DayOfMonth, DayName, DayShort, Weekday)\n",
                "        VALUES(\n",
                "            @DayID,\n",
                "            @Date,\n",
                "            YEAR(@Date),\n",
                "            DATEPART(QUARTER, @Date),\n",
                "            MONTH(@Date),\n",
                "            DATENAME(MONTH, @Date),\n",
                "            LEFT(DATENAME(MONTH, @Date),3),\n",
                "            DATEPART(WEEK, @Date),\n",
                "            DAY(@Date),\n",
                "            DATENAME(WEEKDAY, @Date),\n",
                "            LEFT(DATENAME(WEEKDAY, @Date),3),\n",
                "            CASE WHEN DATEPART(WEEKDAY, @Date) IN (1, 7) THEN 'No' ELSE 'Yes' END\n",
                "        )\n",
                "\n",
                "        SET @Date = DATEADD(DAY, 1, @Date)\n",
                "    END\n",
                "END\n",
                ";\n",
                "GO"
            ]
        },
        {
            "attachments": {},
            "cell_type": "markdown",
            "metadata": {
                "azdata_cell_guid": "3fc43256-8dae-482e-ab1b-dc80c667e1c2",
                "language": "sql"
            },
            "source": [
                "<svg xmlns=\"http://www.w3.org/2000/svg\" height=\"10\" width=\"10\" viewBox=\"0 0 512 512\"><!--!Font Awesome Free 6.5.1 by @fontawesome - https://fontawesome.com License - https://fontawesome.com/license/free Copyright 2023 Fonticons, Inc.--><path fill=\"#0061ff\" d=\"M256 512A256 256 0 1 0 256 0a256 256 0 1 0 0 512z\"/></svg> _These are the top 5 records in the table._"
            ]
        },
        {
            "cell_type": "code",
            "execution_count": 1,
            "metadata": {
                "azdata_cell_guid": "cb2ff1f7-784f-4d52-892f-96ed51ba1f79",
                "language": "sql"
            },
            "outputs": [
                {
                    "data": {
                        "text/html": [
                            "(5 rows affected)"
                        ]
                    },
                    "metadata": {},
                    "output_type": "display_data"
                },
                {
                    "data": {
                        "text/html": [
                            "Total execution time: 00:00:00.020"
                        ]
                    },
                    "metadata": {},
                    "output_type": "display_data"
                },
                {
                    "data": {
                        "application/vnd.dataresource+json": {
                            "data": [
                                {
                                    "DateValue": "2021-01-01",
                                    "DayName": "Friday",
                                    "DayOfMonth": "1",
                                    "DayShort": "Fri",
                                    "Month": "1",
                                    "MonthName": "January",
                                    "MonthShort": "Jan",
                                    "Quarter": "1",
                                    "Weekday": "Yes",
                                    "WeekofYear": "1",
                                    "Year": "2021",
                                    "pkCalendar": "20210101"
                                },
                                {
                                    "DateValue": "2021-01-02",
                                    "DayName": "Saturday",
                                    "DayOfMonth": "2",
                                    "DayShort": "Sat",
                                    "Month": "1",
                                    "MonthName": "January",
                                    "MonthShort": "Jan",
                                    "Quarter": "1",
                                    "Weekday": "No",
                                    "WeekofYear": "1",
                                    "Year": "2021",
                                    "pkCalendar": "20210102"
                                },
                                {
                                    "DateValue": "2021-01-03",
                                    "DayName": "Sunday",
                                    "DayOfMonth": "3",
                                    "DayShort": "Sun",
                                    "Month": "1",
                                    "MonthName": "January",
                                    "MonthShort": "Jan",
                                    "Quarter": "1",
                                    "Weekday": "No",
                                    "WeekofYear": "2",
                                    "Year": "2021",
                                    "pkCalendar": "20210103"
                                },
                                {
                                    "DateValue": "2021-01-04",
                                    "DayName": "Monday",
                                    "DayOfMonth": "4",
                                    "DayShort": "Mon",
                                    "Month": "1",
                                    "MonthName": "January",
                                    "MonthShort": "Jan",
                                    "Quarter": "1",
                                    "Weekday": "Yes",
                                    "WeekofYear": "2",
                                    "Year": "2021",
                                    "pkCalendar": "20210104"
                                },
                                {
                                    "DateValue": "2021-01-05",
                                    "DayName": "Tuesday",
                                    "DayOfMonth": "5",
                                    "DayShort": "Tue",
                                    "Month": "1",
                                    "MonthName": "January",
                                    "MonthShort": "Jan",
                                    "Quarter": "1",
                                    "Weekday": "Yes",
                                    "WeekofYear": "2",
                                    "Year": "2021",
                                    "pkCalendar": "20210105"
                                }
                            ],
                            "schema": {
                                "fields": [
                                    {
                                        "name": "pkCalendar"
                                    },
                                    {
                                        "name": "DateValue"
                                    },
                                    {
                                        "name": "Year"
                                    },
                                    {
                                        "name": "Quarter"
                                    },
                                    {
                                        "name": "Month"
                                    },
                                    {
                                        "name": "MonthName"
                                    },
                                    {
                                        "name": "MonthShort"
                                    },
                                    {
                                        "name": "WeekofYear"
                                    },
                                    {
                                        "name": "DayOfMonth"
                                    },
                                    {
                                        "name": "DayName"
                                    },
                                    {
                                        "name": "DayShort"
                                    },
                                    {
                                        "name": "Weekday"
                                    }
                                ]
                            }
                        },
                        "text/html": [
                            "<table>\n",
                            "<tr><th>pkCalendar</th><th>DateValue</th><th>Year</th><th>Quarter</th><th>Month</th><th>MonthName</th><th>MonthShort</th><th>WeekofYear</th><th>DayOfMonth</th><th>DayName</th><th>DayShort</th><th>Weekday</th></tr>\n",
                            "<tr><td>20210101</td><td>2021-01-01</td><td>2021</td><td>1</td><td>1</td><td>January</td><td>Jan</td><td>1</td><td>1</td><td>Friday</td><td>Fri</td><td>Yes</td></tr>\n",
                            "<tr><td>20210102</td><td>2021-01-02</td><td>2021</td><td>1</td><td>1</td><td>January</td><td>Jan</td><td>1</td><td>2</td><td>Saturday</td><td>Sat</td><td>No</td></tr>\n",
                            "<tr><td>20210103</td><td>2021-01-03</td><td>2021</td><td>1</td><td>1</td><td>January</td><td>Jan</td><td>2</td><td>3</td><td>Sunday</td><td>Sun</td><td>No</td></tr>\n",
                            "<tr><td>20210104</td><td>2021-01-04</td><td>2021</td><td>1</td><td>1</td><td>January</td><td>Jan</td><td>2</td><td>4</td><td>Monday</td><td>Mon</td><td>Yes</td></tr>\n",
                            "<tr><td>20210105</td><td>2021-01-05</td><td>2021</td><td>1</td><td>1</td><td>January</td><td>Jan</td><td>2</td><td>5</td><td>Tuesday</td><td>Tue</td><td>Yes</td></tr>\n",
                            "</table>"
                        ]
                    },
                    "execution_count": 1,
                    "metadata": {},
                    "output_type": "execute_result"
                }
            ],
            "source": [
                "SELECT TOP 5 *\n",
                "FROM TargetMart.dim.Calendar\n",
                "ORDER BY 1 ASC"
            ]
        },
        {
            "attachments": {},
            "cell_type": "markdown",
            "metadata": {
                "azdata_cell_guid": "c5accf33-147b-4942-87fa-4f6500a5e4b0",
                "language": "sql"
            },
            "source": [
                "### Order Performance Fact Table\n",
                "<svg xmlns=\"http://www.w3.org/2000/svg\" height=\"10\" width=\"10\" viewBox=\"0 0 512 512\"><!--!Font Awesome Free 6.5.1 by @fontawesome - https://fontawesome.com License - https://fontawesome.com/license/free Copyright 2023 Fonticons, Inc.--><path fill=\"#0061ff\" d=\"M256 512A256 256 0 1 0 256 0a256 256 0 1 0 0 512z\"/></svg> _The subquery and the where clause is another way to avoid duplicating records when re-running the code._\n"
            ]
        },
        {
            "cell_type": "code",
            "execution_count": null,
            "metadata": {
                "azdata_cell_guid": "6e82243c-c05b-4528-af9e-a1cc46a321b6",
                "language": "sql"
            },
            "outputs": [],
            "source": [
                "INSERT INTO f.OrderPerf(OrderID, fkCalendar, fkCustomer, fkEmployee, fkShipper, Freight, DaysToShip, DaysTilRequired, OrderCount)\n",
                "SELECT sOrd.OrderID\n",
                "\t  ,tCal.pkCalendar\n",
                "\t  ,tCus.pkCustomer\n",
                "\t  ,sOrd.EmployeeID\n",
                "\t  ,sOrd.ShipVia\n",
                "      ,sOrd.Freight\n",
                "\t  ,DATEDIFF(day, sOrd.OrderDate, sOrd.ShippedDate) as DaysToShip\n",
                "\t  ,DATEDIFF(day, sOrd.OrderDate, sOrd.RequireDate) as DaysTilRequired\n",
                "\t  ,'1'\n",
                "FROM Northwind_2023.dbo.Orders as sOrd\n",
                "\tINNER JOIN TargetMart.dim.Calendar as tCal\n",
                "\tON cast(sOrd.OrderDate as date) = tCal.DateValue\n",
                "\tINNER JOIN TargetMart.dim.Customers as tCus\n",
                "\tON sOrd.CustomerID = tCus.CustomerID\n",
                "WHERE sOrd.OrderID not in (SELECT OrderID FROM f.OrderPerf)"
            ]
        },
        {
            "attachments": {},
            "cell_type": "markdown",
            "metadata": {
                "azdata_cell_guid": "0ea28a10-f945-48c4-bde9-73f9287370ef",
                "language": "sql"
            },
            "source": [
                "<svg xmlns=\"http://www.w3.org/2000/svg\" height=\"10\" width=\"10\" viewBox=\"0 0 512 512\"><!--!Font Awesome Free 6.5.1 by @fontawesome - https://fontawesome.com License - https://fontawesome.com/license/free Copyright 2023 Fonticons, Inc.--><path fill=\"#0061ff\" d=\"M256 512A256 256 0 1 0 256 0a256 256 0 1 0 0 512z\"/></svg> _These are the top 5 records in the table._\n"
            ]
        },
        {
            "cell_type": "code",
            "execution_count": 2,
            "metadata": {
                "azdata_cell_guid": "8476271e-5a73-4094-8cf9-e566ffb848ca",
                "language": "sql",
                "tags": []
            },
            "outputs": [
                {
                    "data": {
                        "text/html": [
                            "(5 rows affected)"
                        ]
                    },
                    "metadata": {},
                    "output_type": "display_data"
                },
                {
                    "data": {
                        "text/html": [
                            "Total execution time: 00:00:00.016"
                        ]
                    },
                    "metadata": {},
                    "output_type": "display_data"
                },
                {
                    "data": {
                        "application/vnd.dataresource+json": {
                            "data": [
                                {
                                    "DaysTilRequired": "28",
                                    "DaysToShip": "12",
                                    "Freight": "32.38",
                                    "OrderCount": "1",
                                    "OrderID": "10248",
                                    "fkCalendar": "20210704",
                                    "fkCustomer": "1085",
                                    "fkEmployee": "5",
                                    "fkShipper": "3"
                                },
                                {
                                    "DaysTilRequired": "42",
                                    "DaysToShip": "5",
                                    "Freight": "11.61",
                                    "OrderCount": "1",
                                    "OrderID": "10249",
                                    "fkCalendar": "20210705",
                                    "fkCustomer": "1079",
                                    "fkEmployee": "6",
                                    "fkShipper": "1"
                                },
                                {
                                    "DaysTilRequired": "28",
                                    "DaysToShip": "4",
                                    "Freight": "65.83",
                                    "OrderCount": "1",
                                    "OrderID": "10250",
                                    "fkCalendar": "20210708",
                                    "fkCustomer": "1033",
                                    "fkEmployee": "4",
                                    "fkShipper": "2"
                                },
                                {
                                    "DaysTilRequired": "28",
                                    "DaysToShip": "7",
                                    "Freight": "41.34",
                                    "OrderCount": "1",
                                    "OrderID": "10251",
                                    "fkCalendar": "20210708",
                                    "fkCustomer": "1084",
                                    "fkEmployee": "3",
                                    "fkShipper": "1"
                                },
                                {
                                    "DaysTilRequired": "28",
                                    "DaysToShip": "2",
                                    "Freight": "51.30",
                                    "OrderCount": "1",
                                    "OrderID": "10252",
                                    "fkCalendar": "20210709",
                                    "fkCustomer": "1076",
                                    "fkEmployee": "4",
                                    "fkShipper": "2"
                                }
                            ],
                            "schema": {
                                "fields": [
                                    {
                                        "name": "OrderID"
                                    },
                                    {
                                        "name": "fkCalendar"
                                    },
                                    {
                                        "name": "fkCustomer"
                                    },
                                    {
                                        "name": "fkEmployee"
                                    },
                                    {
                                        "name": "fkShipper"
                                    },
                                    {
                                        "name": "Freight"
                                    },
                                    {
                                        "name": "DaysToShip"
                                    },
                                    {
                                        "name": "DaysTilRequired"
                                    },
                                    {
                                        "name": "OrderCount"
                                    }
                                ]
                            }
                        },
                        "text/html": [
                            "<table>\n",
                            "<tr><th>OrderID</th><th>fkCalendar</th><th>fkCustomer</th><th>fkEmployee</th><th>fkShipper</th><th>Freight</th><th>DaysToShip</th><th>DaysTilRequired</th><th>OrderCount</th></tr>\n",
                            "<tr><td>10248</td><td>20210704</td><td>1085</td><td>5</td><td>3</td><td>32.38</td><td>12</td><td>28</td><td>1</td></tr>\n",
                            "<tr><td>10249</td><td>20210705</td><td>1079</td><td>6</td><td>1</td><td>11.61</td><td>5</td><td>42</td><td>1</td></tr>\n",
                            "<tr><td>10250</td><td>20210708</td><td>1033</td><td>4</td><td>2</td><td>65.83</td><td>4</td><td>28</td><td>1</td></tr>\n",
                            "<tr><td>10251</td><td>20210708</td><td>1084</td><td>3</td><td>1</td><td>41.34</td><td>7</td><td>28</td><td>1</td></tr>\n",
                            "<tr><td>10252</td><td>20210709</td><td>1076</td><td>4</td><td>2</td><td>51.30</td><td>2</td><td>28</td><td>1</td></tr>\n",
                            "</table>"
                        ]
                    },
                    "execution_count": 2,
                    "metadata": {},
                    "output_type": "execute_result"
                }
            ],
            "source": [
                "SELECT TOP 5 *\n",
                "FROM TargetMart.f.OrderPerf\n",
                "ORDER BY 1 ASC"
            ]
        }
    ],
    "metadata": {
        "kernelspec": {
            "display_name": "SQL",
            "language": "sql",
            "name": "SQL"
        },
        "language_info": {
            "name": "sql",
            "version": ""
        }
    },
    "nbformat": 4,
    "nbformat_minor": 2
}
