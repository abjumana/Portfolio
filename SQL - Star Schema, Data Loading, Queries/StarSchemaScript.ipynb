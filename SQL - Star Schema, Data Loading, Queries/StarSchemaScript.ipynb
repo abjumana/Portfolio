{
    "cells": [
        {
            "attachments": {},
            "cell_type": "markdown",
            "metadata": {
                "azdata_cell_guid": "fcfd7b7c-8753-45d4-9368-5c88ee5f7e45"
            },
            "source": [
                "<link rel=\"stylesheet\" href=\"https://cdnjs.cloudflare.com/ajax/libs/font-awesome/6.5.1/css/all.min.css\" integrity=\"sha384-jjEogNp1Y6X6IHzn5e89tFAYGBhKQTaPpS1D+BLc7gM3evIrqF/A+TDAX5G5Tt2P\" crossorigin=\"anonymous\">\n"
            ]
        },
        {
            "attachments": {},
            "cell_type": "markdown",
            "metadata": {
                "azdata_cell_guid": "9de6203a-07b3-4e46-b749-1b9f298ee850"
            },
            "source": [
                "# <svg xmlns=\"http://www.w3.org/2000/svg\" height=\"32\" width=\"32\" viewBox=\"0 0 512 512\"><!--!Font Awesome Free 6.5.1 by @fontawesome - https://fontawesome.com License - https://fontawesome.com/license/free Copyright 2023 Fonticons, Inc.--><path fill=\"#444444\" d=\"M234.5 5.7c13.9-5 29.1-5 43.1 0l192 68.6C495 83.4 512 107.5 512 134.6V377.4c0 27-17 51.2-42.5 60.3l-192 68.6c-13.9 5-29.1 5-43.1 0l-192-68.6C17 428.6 0 404.5 0 377.4V134.6c0-27 17-51.2 42.5-60.3l192-68.6zM256 66L82.3 128 256 190l173.7-62L256 66zm32 368.6l160-57.1v-188L288 246.6v188z\"/></svg>&nbsp; **Star Schema SQL Script**\n",
                "\n",
                "### This is an excerpt of the schema script I used to create a new database with 7 tables (5 dimension and 2 fact tables) for my Database Design class - <svg xmlns=\"http://www.w3.org/2000/svg\" height=\"20\" width=\"17.5\" viewBox=\"0 0 448 512\"><!--!Font Awesome Free 6.5.1 by @fontawesome - https://fontawesome.com License - https://fontawesome.com/license/free Copyright 2023 Fonticons, Inc.--><path fill=\"#4d22b3\" d=\"M448 80v48c0 44.2-100.3 80-224 80S0 172.2 0 128V80C0 35.8 100.3 0 224 0S448 35.8 448 80zM393.2 214.7c20.8-7.4 39.9-16.9 54.8-28.6V288c0 44.2-100.3 80-224 80S0 332.2 0 288V186.1c14.9 11.8 34 21.2 54.8 28.6C99.7 230.7 159.5 240 224 240s124.3-9.3 169.2-25.3zM0 346.1c14.9 11.8 34 21.2 54.8 28.6C99.7 390.7 159.5 400 224 400s124.3-9.3 169.2-25.3c20.8-7.4 39.9-16.9 54.8-28.6V432c0 44.2-100.3 80-224 80S0 476.2 0 432V346.1z\"/></svg>  <font color='#4d22b3'>TargetMart</font>. This notebook shows scripts for 3 of the tables.\n",
                "  "
            ]
        },
        {
            "attachments": {},
            "cell_type": "markdown",
            "metadata": {
                "azdata_cell_guid": "778b5215-ea41-4070-9735-faa6598108cf"
            },
            "source": [
                "### Schemas\n",
                "<svg xmlns=\"http://www.w3.org/2000/svg\" height=\"10\" width=\"10\" viewBox=\"0 0 512 512\"><!--!Font Awesome Free 6.5.1 by @fontawesome - https://fontawesome.com License - https://fontawesome.com/license/free Copyright 2023 Fonticons, Inc.--><path fill=\"#0061ff\" d=\"M256 512A256 256 0 1 0 256 0a256 256 0 1 0 0 512z\"/></svg> &nbsp; _I created two separate schemas, dim and f, for my dimensions and facts, respectively._"
            ]
        },
        {
            "cell_type": "code",
            "execution_count": null,
            "metadata": {
                "azdata_cell_guid": "25b3db5b-8ee3-4cc9-89d3-bff13d9f9e86",
                "language": "sql"
            },
            "outputs": [],
            "source": [
                "USE TargetMart;\n",
                "GO\n",
                "\n",
                "\n",
                "IF NOT EXISTS (SELECT * FROM sys.schemas WHERE name = 'dim' ) \n",
                "BEGIN\n",
                "\tEXEC sp_executesql N'CREATE SCHEMA dim AUTHORIZATION dbo;'\n",
                "END\n",
                ";\n",
                "\n",
                "GO\n",
                "\n",
                "IF NOT EXISTS (SELECT * FROM sys.schemas WHERE name = 'f' ) \n",
                "BEGIN\n",
                "\tEXEC sp_executesql N'CREATE SCHEMA f AUTHORIZATION dbo;'\n",
                "END\n",
                ";\n",
                "\n",
                "GO"
            ]
        },
        {
            "attachments": {},
            "cell_type": "markdown",
            "metadata": {
                "azdata_cell_guid": "ebfd0a0d-8f11-4481-bd3c-362c653cd084"
            },
            "source": [
                "### Customers Dimension Table\n",
                "<svg xmlns=\"http://www.w3.org/2000/svg\" height=\"10\" width=\"10\" viewBox=\"0 0 512 512\"><!--!Font Awesome Free 6.5.1 by @fontawesome - https://fontawesome.com License - https://fontawesome.com/license/free Copyright 2023 Fonticons, Inc.--><path fill=\"#0061ff\" d=\"M256 512A256 256 0 1 0 256 0a256 256 0 1 0 0 512z\"/></svg> _This table has a surrogate key (pkCustomer) and a natural key (CustomerID). The load date is also included to keep track of when new records are added to the table._"
            ]
        },
        {
            "cell_type": "code",
            "execution_count": null,
            "metadata": {
                "azdata_cell_guid": "88347f7c-1e61-4c36-bd55-b8a6224a5509",
                "language": "sql",
                "tags": []
            },
            "outputs": [],
            "source": [
                "IF NOT EXISTS (SELECT * FROM INFORMATION_SCHEMA.TABLES WHERE TABLE_SCHEMA = 'dim' AND TABLE_NAME = 'Customers')\n",
                "\n",
                "BEGIN\n",
                "\tCREATE TABLE dim.Customers(\n",
                "        pkCustomer int IDENTITY(1000,1) NOT NULL,\n",
                "        CustomerID nvarchar(5) NOT NULL,\n",
                "        Customer nvarchar(40) NOT NULL,\n",
                "        City nvarchar(15) NULL,\n",
                "        Country nvarchar(15) NULL,\n",
                "        LoadDate DATE NOT NULL,\n",
                "    );\n",
                "\n",
                "\tALTER TABLE dim.Customers\n",
                "\tADD CONSTRAINT PK_Customers_LUP PRIMARY KEY(pkCustomer);\n",
                "\n",
                "\tALTER TABLE dim.Customers\n",
                "    ADD CONSTRAINT UC_Customers_ID UNIQUE (CustomerID);\n",
                "\n",
                "END\n",
                ";\n",
                "GO\n"
            ]
        },
        {
            "attachments": {},
            "cell_type": "markdown",
            "metadata": {
                "azdata_cell_guid": "26447ae8-18d9-451b-8672-3c393180b100",
                "language": "sql"
            },
            "source": [
                "### Calendar Dimension Table\n",
                "<svg xmlns=\"http://www.w3.org/2000/svg\" height=\"10\" width=\"10\" viewBox=\"0 0 512 512\"><!--!Font Awesome Free 6.5.1 by @fontawesome - https://fontawesome.com License - https://fontawesome.com/license/free Copyright 2023 Fonticons, Inc.--><path fill=\"#0061ff\" d=\"M256 512A256 256 0 1 0 256 0a256 256 0 1 0 0 512z\"/></svg> _The primary key will be in the format of YYYYMMDD._"
            ]
        },
        {
            "cell_type": "code",
            "execution_count": null,
            "metadata": {
                "azdata_cell_guid": "a08c1b85-55b1-47b0-a2b6-7003e37d33d5",
                "language": "sql"
            },
            "outputs": [],
            "source": [
                "\n",
                "IF NOT EXISTS (SELECT * FROM INFORMATION_SCHEMA.TABLES WHERE TABLE_SCHEMA = 'dim' AND TABLE_NAME = 'Calendar')\n",
                "\n",
                "BEGIN\n",
                "    CREATE TABLE dim.Calendar(\n",
                "        pkCalendar INT NOT NULL,\n",
                "        DateValue DATE NOT NULL,\n",
                "        Year INT NOT NULL,\n",
                "        Quarter INT NOT NULL,\n",
                "        Month INT NOT NULL,\n",
                "        MonthName VARCHAR(10) NOT NULL,\n",
                "        MonthShort VARCHAR(3) NOT NULL,\n",
                "        WeekofYear INT NOT NULL,\n",
                "        DayOfMonth INT NOT NULL,\n",
                "        DayName VARCHAR(10) NOT NULL,\n",
                "        DayShort VARCHAR(3) NOT NULL,\n",
                "        Weekday VARCHAR(3) NOT NULL\n",
                "    );\n",
                "\n",
                "\tALTER TABLE dim.Calendar\n",
                "\tADD CONSTRAINT PK_Calendar PRIMARY KEY(pkCalendar);\n",
                "\n",
                "\tALTER TABLE dim.Calendar\n",
                "    ADD CONSTRAINT UC_Calendar UNIQUE (DateValue);\n",
                "\n",
                "END\n",
                ";\n",
                "GO"
            ]
        },
        {
            "attachments": {},
            "cell_type": "markdown",
            "metadata": {
                "azdata_cell_guid": "3a92057b-8ba5-4cfe-bca1-624f1e841bee",
                "language": "sql"
            },
            "source": [
                "### Order Performance Fact Table\n",
                "<svg xmlns=\"http://www.w3.org/2000/svg\" height=\"10\" width=\"10\" viewBox=\"0 0 512 512\"><!--!Font Awesome Free 6.5.1 by @fontawesome - https://fontawesome.com License - https://fontawesome.com/license/free Copyright 2023 Fonticons, Inc.--><path fill=\"#0061ff\" d=\"M256 512A256 256 0 1 0 256 0a256 256 0 1 0 0 512z\"/></svg> _There is no primary key and there are 4 foreign keys. The relationships are established to 4 of the dimension tables._"
            ]
        },
        {
            "cell_type": "code",
            "execution_count": null,
            "metadata": {
                "azdata_cell_guid": "ca36c32c-8580-4235-9731-b2dd89c4ddfa",
                "language": "sql",
                "tags": []
            },
            "outputs": [],
            "source": [
                "IF NOT EXISTS (SELECT * FROM INFORMATION_SCHEMA.TABLES WHERE TABLE_SCHEMA = 'f' AND TABLE_NAME = 'OrderPerf')\n",
                "\n",
                "BEGIN\n",
                "    CREATE TABLE f.OrderPerf(\n",
                "        OrderID int NOT NULL,\n",
                "        fkCalendar int NOT NULL,\n",
                "        fkCustomer int NOT NULL,\n",
                "        fkEmployee int NULL,\n",
                "        fkShipper int NULL,\n",
                "        Freight money NOT NULL,\n",
                "        DaysToShip int NULL,\n",
                "        DaysTilRequired int NOT NULL,\n",
                "        OrderCount bit NOT NULL\n",
                "    );\n",
                "\n",
                "    ALTER TABLE f.OrderPerf\n",
                "    ADD CONSTRAINT PK_ORD PRIMARY KEY(OrderID);\n",
                "\n",
                "    ALTER TABLE f.OrderPerf\n",
                "    ADD CONSTRAINT FK_ORDtoCAL\n",
                "        FOREIGN KEY (fkCalendar)\n",
                "        REFERENCES dim.Calendar(pkCalendar);\n",
                "\n",
                "    ALTER TABLE f.OrderPerf\n",
                "    ADD CONSTRAINT FK_ORDtoCUST\n",
                "        FOREIGN KEY (fkCustomer)\n",
                "        REFERENCES dim.Customers(pkCustomer);\n",
                "\n",
                "    ALTER TABLE f.OrderPerf\n",
                "    ADD CONSTRAINT FK_ORDtoEMP\n",
                "        FOREIGN KEY (fkEmployee)\n",
                "        REFERENCES dim.Employees(pkEmployeeID);\n",
                "\n",
                "    ALTER TABLE f.OrderPerf\n",
                "    ADD CONSTRAINT FK_ORDtoSHIP\n",
                "        FOREIGN KEY (fkShipper)\n",
                "        REFERENCES dim.Shipper(pkShipperID);\n",
                "\n",
                "END\n",
                ";\n",
                "GO"
            ]
        },
        {
            "attachments": {},
            "cell_type": "markdown",
            "metadata": {
                "azdata_cell_guid": "72793bcb-acaa-4b73-ad7b-1d92f2fde2a2"
            },
            "source": [
                "### <svg xmlns=\"http://www.w3.org/2000/svg\" height=\"20\" width=\"22.5\" viewBox=\"0 0 576 512\"><!--!Font Awesome Free 6.5.1 by @fontawesome - https://fontawesome.com License - https://fontawesome.com/license/free Copyright 2023 Fonticons, Inc.--><path fill=\"#444444\" d=\"M0 80C0 53.5 21.5 32 48 32h96c26.5 0 48 21.5 48 48V96H384V80c0-26.5 21.5-48 48-48h96c26.5 0 48 21.5 48 48v96c0 26.5-21.5 48-48 48H432c-26.5 0-48-21.5-48-48V160H192v16c0 1.7-.1 3.4-.3 5L272 288h96c26.5 0 48 21.5 48 48v96c0 26.5-21.5 48-48 48H272c-26.5 0-48-21.5-48-48V336c0-1.7 .1-3.4 .3-5L144 224H48c-26.5 0-48-21.5-48-48V80z\"/></svg> _The entity relationship diagram for this database is uploaded in my repository._"
            ]
        }
    ],
    "metadata": {
        "kernelspec": {
            "display_name": "SQL",
            "language": "sql",
            "name": "SQL"
        },
        "language_info": {
            "name": "sql",
            "version": ""
        }
    },
    "nbformat": 4,
    "nbformat_minor": 2
}
