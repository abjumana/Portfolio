{
    "cells": [
        {
            "attachments": {},
            "cell_type": "markdown",
            "metadata": {
                "azdata_cell_guid": "5720f302-323c-459b-9a5a-93c5e58309bb"
            },
            "source": [
                "# SQL Query Examples"
            ]
        },
        {
            "attachments": {},
            "cell_type": "markdown",
            "metadata": {
                "azdata_cell_guid": "1b145425-8a2f-45e8-8e92-ae15f5925e1b",
                "language": "sql"
            },
            "source": [
                "<svg xmlns=\"http://www.w3.org/2000/svg\" height=\"25\" width=\"25\" viewBox=\"0 0 512 512\"><!--!Font Awesome Free 6.5.1 by @fontawesome - https://fontawesome.com License - https://fontawesome.com/license/free Copyright 2023 Fonticons, Inc.--><path fill=\"#0056d6\" d=\"M256 512A256 256 0 1 0 256 0a256 256 0 1 0 0 512zM169.8 165.3c7.9-22.3 29.1-37.3 52.8-37.3h58.3c34.9 0 63.1 28.3 63.1 63.1c0 22.6-12.1 43.5-31.7 54.8L280 264.4c-.2 13-10.9 23.6-24 23.6c-13.3 0-24-10.7-24-24V250.5c0-8.6 4.6-16.5 12.1-20.8l44.3-25.4c4.7-2.7 7.6-7.7 7.6-13.1c0-8.4-6.8-15.1-15.1-15.1H222.6c-3.4 0-6.4 2.1-7.5 5.3l-.4 1.2c-4.4 12.5-18.2 19-30.6 14.6s-19-18.2-14.6-30.6l.4-1.2zM224 352a32 32 0 1 1 64 0 32 32 0 1 1 -64 0z\"/></svg> <svg xmlns=\"http://www.w3.org/2000/svg\" height=\"25\" width=\"25\" viewBox=\"0 0 512 512\"><!--!Font Awesome Free 6.5.1 by @fontawesome - https://fontawesome.com License - https://fontawesome.com/license/free Copyright 2023 Fonticons, Inc.--><path fill=\"#0056d6\" d=\"M40 48C26.7 48 16 58.7 16 72v48c0 13.3 10.7 24 24 24H88c13.3 0 24-10.7 24-24V72c0-13.3-10.7-24-24-24H40zM192 64c-17.7 0-32 14.3-32 32s14.3 32 32 32H480c17.7 0 32-14.3 32-32s-14.3-32-32-32H192zm0 160c-17.7 0-32 14.3-32 32s14.3 32 32 32H480c17.7 0 32-14.3 32-32s-14.3-32-32-32H192zm0 160c-17.7 0-32 14.3-32 32s14.3 32 32 32H480c17.7 0 32-14.3 32-32s-14.3-32-32-32H192zM16 232v48c0 13.3 10.7 24 24 24H88c13.3 0 24-10.7 24-24V232c0-13.3-10.7-24-24-24H40c-13.3 0-24 10.7-24 24zM40 368c-13.3 0-24 10.7-24 24v48c0 13.3 10.7 24 24 24H88c13.3 0 24-10.7 24-24V392c0-13.3-10.7-24-24-24H40z\"/></svg>\n",
                "\n",
                "**Objective** - Determine the distribution of products across price categories, classifying them as low (up to $20), medium (up to $50), and high (above $50)."
            ]
        },
        {
            "cell_type": "code",
            "execution_count": 1,
            "metadata": {
                "azdata_cell_guid": "bf1f1609-77e9-477f-93a6-1e15ec00813d",
                "language": "sql"
            },
            "outputs": [
                {
                    "data": {
                        "text/html": [
                            "Commands completed successfully."
                        ]
                    },
                    "metadata": {},
                    "output_type": "display_data"
                },
                {
                    "data": {
                        "text/html": [
                            "(3 rows affected)"
                        ]
                    },
                    "metadata": {},
                    "output_type": "display_data"
                },
                {
                    "data": {
                        "text/html": [
                            "Total execution time: 00:00:00.018"
                        ]
                    },
                    "metadata": {},
                    "output_type": "display_data"
                },
                {
                    "data": {
                        "application/vnd.dataresource+json": {
                            "data": [
                                {
                                    "AveragePrice": "13.19",
                                    "PriceCategory": "Low",
                                    "ProductCount": "40"
                                },
                                {
                                    "AveragePrice": "31.98",
                                    "PriceCategory": "Med",
                                    "ProductCount": "30"
                                },
                                {
                                    "AveragePrice": "105.11",
                                    "PriceCategory": "High",
                                    "ProductCount": "7"
                                }
                            ],
                            "schema": {
                                "fields": [
                                    {
                                        "name": "PriceCategory"
                                    },
                                    {
                                        "name": "ProductCount"
                                    },
                                    {
                                        "name": "AveragePrice"
                                    }
                                ]
                            }
                        },
                        "text/html": [
                            "<table>\n",
                            "<tr><th>PriceCategory</th><th>ProductCount</th><th>AveragePrice</th></tr>\n",
                            "<tr><td>Low</td><td>40</td><td>13.19</td></tr>\n",
                            "<tr><td>Med</td><td>30</td><td>31.98</td></tr>\n",
                            "<tr><td>High</td><td>7</td><td>105.11</td></tr>\n",
                            "</table>"
                        ]
                    },
                    "execution_count": 1,
                    "metadata": {},
                    "output_type": "execute_result"
                }
            ],
            "source": [
                "USE TargetMart;\n",
                "GO\n",
                "\n",
                "WITH price_cte AS\n",
                "(\n",
                "\tSELECT *,\n",
                "\t\t\t(CASE\n",
                "\t\t\t\tWHEN UnitPrice <= '20.00' THEN 'Low'\n",
                "\t\t\t\tWHEN UnitPrice <= '50.00' THEN 'Med'\n",
                "\t\t\t\tELSE 'High'\n",
                "\t\t     END) as PriceCategory\n",
                "\tFROM dim.Products\n",
                ")\n",
                "\n",
                "SELECT PriceCategory\n",
                "      ,count(*) as ProductCount\n",
                "\t  ,round(cast(avg(UnitPrice) as money), 2) as AveragePrice \n",
                "FROM price_cte\n",
                "GROUP BY PriceCategory\n",
                "ORDER BY AveragePrice ASC"
            ]
        },
        {
            "attachments": {},
            "cell_type": "markdown",
            "metadata": {
                "azdata_cell_guid": "2f970e23-7c72-4ada-a2f3-037587f7759e",
                "language": "sql"
            },
            "source": [
                "<svg xmlns=\"http://www.w3.org/2000/svg\" height=\"25\" width=\"25\" viewBox=\"0 0 512 512\"><!--!Font Awesome Free 6.5.1 by @fontawesome - https://fontawesome.com License - https://fontawesome.com/license/free Copyright 2023 Fonticons, Inc.--><path fill=\"#0056d6\" d=\"M320 96H192L144.6 24.9C137.5 14.2 145.1 0 157.9 0H354.1c12.8 0 20.4 14.2 13.3 24.9L320 96zM192 128H320c3.8 2.5 8.1 5.3 13 8.4C389.7 172.7 512 250.9 512 416c0 53-43 96-96 96H96c-53 0-96-43-96-96C0 250.9 122.3 172.7 179 136.4l0 0 0 0c4.8-3.1 9.2-5.9 13-8.4zm84 88c0-11-9-20-20-20s-20 9-20 20v14c-7.6 1.7-15.2 4.4-22.2 8.5c-13.9 8.3-25.9 22.8-25.8 43.9c.1 20.3 12 33.1 24.7 40.7c11 6.6 24.7 10.8 35.6 14l1.7 .5c12.6 3.8 21.8 6.8 28 10.7c5.1 3.2 5.8 5.4 5.9 8.2c.1 5-1.8 8-5.9 10.5c-5 3.1-12.9 5-21.4 4.7c-11.1-.4-21.5-3.9-35.1-8.5c-2.3-.8-4.7-1.6-7.2-2.4c-10.5-3.5-21.8 2.2-25.3 12.6s2.2 21.8 12.6 25.3c1.9 .6 4 1.3 6.1 2.1l0 0 0 0c8.3 2.9 17.9 6.2 28.2 8.4V424c0 11 9 20 20 20s20-9 20-20V410.2c8-1.7 16-4.5 23.2-9c14.3-8.9 25.1-24.1 24.8-45c-.3-20.3-11.7-33.4-24.6-41.6c-11.5-7.2-25.9-11.6-37.1-15l0 0-.7-.2c-12.8-3.9-21.9-6.7-28.3-10.5c-5.2-3.1-5.3-4.9-5.3-6.7c0-3.7 1.4-6.5 6.2-9.3c5.4-3.2 13.6-5.1 21.5-5c9.6 .1 20.2 2.2 31.2 5.2c10.7 2.8 21.6-3.5 24.5-14.2s-3.5-21.6-14.2-24.5c-6.5-1.7-13.7-3.4-21.1-4.7V216z\"/></svg> <svg xmlns=\"http://www.w3.org/2000/svg\" height=\"25\" width=\"23\" viewBox=\"0 0 448 512\"><!--!Font Awesome Free 6.5.1 by @fontawesome - https://fontawesome.com License - https://fontawesome.com/license/free Copyright 2023 Fonticons, Inc.--><path fill=\"#0056d6\" d=\"M128 0c17.7 0 32 14.3 32 32V64H288V32c0-17.7 14.3-32 32-32s32 14.3 32 32V64h48c26.5 0 48 21.5 48 48v48H0V112C0 85.5 21.5 64 48 64H96V32c0-17.7 14.3-32 32-32zM0 192H448V464c0 26.5-21.5 48-48 48H48c-26.5 0-48-21.5-48-48V192zm64 80v32c0 8.8 7.2 16 16 16h32c8.8 0 16-7.2 16-16V272c0-8.8-7.2-16-16-16H80c-8.8 0-16 7.2-16 16zm128 0v32c0 8.8 7.2 16 16 16h32c8.8 0 16-7.2 16-16V272c0-8.8-7.2-16-16-16H208c-8.8 0-16 7.2-16 16zm144-16c-8.8 0-16 7.2-16 16v32c0 8.8 7.2 16 16 16h32c8.8 0 16-7.2 16-16V272c0-8.8-7.2-16-16-16H336zM64 400v32c0 8.8 7.2 16 16 16h32c8.8 0 16-7.2 16-16V400c0-8.8-7.2-16-16-16H80c-8.8 0-16 7.2-16 16zm144-16c-8.8 0-16 7.2-16 16v32c0 8.8 7.2 16 16 16h32c8.8 0 16-7.2 16-16V400c0-8.8-7.2-16-16-16H208zm112 16v32c0 8.8 7.2 16 16 16h32c8.8 0 16-7.2 16-16V400c0-8.8-7.2-16-16-16H336c-8.8 0-16 7.2-16 16z\"/></svg>\n",
                "\n",
                "**Objective** - Analyze the monthly sales performance for the Beverages category throughout the year 2022."
            ]
        },
        {
            "cell_type": "code",
            "execution_count": 1,
            "metadata": {
                "azdata_cell_guid": "5a6ba2f6-1611-48fe-b389-5ed632d02006",
                "language": "sql"
            },
            "outputs": [
                {
                    "data": {
                        "text/html": [
                            "Commands completed successfully."
                        ]
                    },
                    "metadata": {},
                    "output_type": "display_data"
                },
                {
                    "data": {
                        "text/html": [
                            "(12 rows affected)"
                        ]
                    },
                    "metadata": {},
                    "output_type": "display_data"
                },
                {
                    "data": {
                        "text/html": [
                            "Total execution time: 00:00:00.014"
                        ]
                    },
                    "metadata": {},
                    "output_type": "display_data"
                },
                {
                    "data": {
                        "application/vnd.dataresource+json": {
                            "data": [
                                {
                                    "MonthName": "January",
                                    "Total": "21904.16"
                                },
                                {
                                    "MonthName": "February",
                                    "Total": "2845.84"
                                },
                                {
                                    "MonthName": "March",
                                    "Total": "10636.88"
                                },
                                {
                                    "MonthName": "April",
                                    "Total": "7074.35"
                                },
                                {
                                    "MonthName": "May",
                                    "Total": "15422.25"
                                },
                                {
                                    "MonthName": "June",
                                    "Total": "3485.43"
                                },
                                {
                                    "MonthName": "July",
                                    "Total": "7889.23"
                                },
                                {
                                    "MonthName": "August",
                                    "Total": "5836.93"
                                },
                                {
                                    "MonthName": "September",
                                    "Total": "5726.70"
                                },
                                {
                                    "MonthName": "October",
                                    "Total": "8374.90"
                                },
                                {
                                    "MonthName": "November",
                                    "Total": "3851.00"
                                },
                                {
                                    "MonthName": "December",
                                    "Total": "10876.65"
                                }
                            ],
                            "schema": {
                                "fields": [
                                    {
                                        "name": "MonthName"
                                    },
                                    {
                                        "name": "Total"
                                    }
                                ]
                            }
                        },
                        "text/html": [
                            "<table><tr><th>MonthName</th><th>Total</th></tr><tr><td>January</td><td>21904.16</td></tr><tr><td>February</td><td>2845.84</td></tr><tr><td>March</td><td>10636.88</td></tr><tr><td>April</td><td>7074.35</td></tr><tr><td>May</td><td>15422.25</td></tr><tr><td>June</td><td>3485.43</td></tr><tr><td>July</td><td>7889.23</td></tr><tr><td>August</td><td>5836.93</td></tr><tr><td>September</td><td>5726.70</td></tr><tr><td>October</td><td>8374.90</td></tr><tr><td>November</td><td>3851.00</td></tr><tr><td>December</td><td>10876.65</td></tr></table>"
                        ]
                    },
                    "execution_count": 1,
                    "metadata": {},
                    "output_type": "execute_result"
                }
            ],
            "source": [
                "USE TargetMart;\n",
                "GO\n",
                "\n",
                "SELECT cal.MonthName\n",
                "\t  ,round(cast(sum(LineTotal) as money), 2) as Total\n",
                "FROM f.ProductPerf as pp\n",
                "\tINNER JOIN dim.Calendar as cal\n",
                "\tON cal.pkCalendar = pp.OrderDate\n",
                "\tINNER JOIN dim.Products as p\n",
                "\tON p.pkProductID = pp.fkProductID\n",
                "WHERE cal.Year = 2022 AND p.Category in ('Beverages')\n",
                "GROUP BY cal.MonthName, cal.Month\n",
                "ORDER BY cal.Month"
            ]
        },
        {
            "attachments": {},
            "cell_type": "markdown",
            "metadata": {
                "azdata_cell_guid": "a06127b2-a76d-4415-9338-e541a731a8b6",
                "language": "sql"
            },
            "source": [
                "<svg xmlns=\"http://www.w3.org/2000/svg\" height=\"25\" width=\"33\" viewBox=\"0 0 640 512\"><!--!Font Awesome Free 6.5.1 by @fontawesome - https://fontawesome.com License - https://fontawesome.com/license/free Copyright 2023 Fonticons, Inc.--><path fill=\"#0056d6\" d=\"M144 0a80 80 0 1 1 0 160A80 80 0 1 1 144 0zM512 0a80 80 0 1 1 0 160A80 80 0 1 1 512 0zM0 298.7C0 239.8 47.8 192 106.7 192h42.7c15.9 0 31 3.5 44.6 9.7c-1.3 7.2-1.9 14.7-1.9 22.3c0 38.2 16.8 72.5 43.3 96c-.2 0-.4 0-.7 0H21.3C9.6 320 0 310.4 0 298.7zM405.3 320c-.2 0-.4 0-.7 0c26.6-23.5 43.3-57.8 43.3-96c0-7.6-.7-15-1.9-22.3c13.6-6.3 28.7-9.7 44.6-9.7h42.7C592.2 192 640 239.8 640 298.7c0 11.8-9.6 21.3-21.3 21.3H405.3zM224 224a96 96 0 1 1 192 0 96 96 0 1 1 -192 0zM128 485.3C128 411.7 187.7 352 261.3 352H378.7C452.3 352 512 411.7 512 485.3c0 14.7-11.9 26.7-26.7 26.7H154.7c-14.7 0-26.7-11.9-26.7-26.7z\"/></svg>  <svg xmlns=\"http://www.w3.org/2000/svg\" height=\"25\" width=\"25\" viewBox=\"0 0 512 512\"><!--!Font Awesome Free 6.5.1 by @fontawesome - https://fontawesome.com License - https://fontawesome.com/license/free Copyright 2023 Fonticons, Inc.--><path fill=\"#0056d6\" d=\"M57.7 193l9.4 16.4c8.3 14.5 21.9 25.2 38 29.8L163 255.7c17.2 4.9 29 20.6 29 38.5v39.9c0 11 6.2 21 16 25.9s16 14.9 16 25.9v39c0 15.6 14.9 26.9 29.9 22.6c16.1-4.6 28.6-17.5 32.7-33.8l2.8-11.2c4.2-16.9 15.2-31.4 30.3-40l8.1-4.6c15-8.5 24.2-24.5 24.2-41.7v-8.3c0-12.7-5.1-24.9-14.1-33.9l-3.9-3.9c-9-9-21.2-14.1-33.9-14.1H257c-11.1 0-22.1-2.9-31.8-8.4l-34.5-19.7c-4.3-2.5-7.6-6.5-9.2-11.2c-3.2-9.6 1.1-20 10.2-24.5l5.9-3c6.6-3.3 14.3-3.9 21.3-1.5l23.2 7.7c8.2 2.7 17.2-.4 21.9-7.5c4.7-7 4.2-16.3-1.2-22.8l-13.6-16.3c-10-12-9.9-29.5 .3-41.3l15.7-18.3c8.8-10.3 10.2-25 3.5-36.7l-2.4-4.2c-3.5-.2-6.9-.3-10.4-.3C163.1 48 84.4 108.9 57.7 193zM464 256c0-36.8-9.6-71.4-26.4-101.5L412 164.8c-15.7 6.3-23.8 23.8-18.5 39.8l16.9 50.7c3.5 10.4 12 18.3 22.6 20.9l29.1 7.3c1.2-9 1.8-18.2 1.8-27.5zM0 256a256 256 0 1 1 512 0A256 256 0 1 1 0 256z\"/></svg>\n",
                "\n",
                "**Objective** - Identify the customer base in Canada and Mexico for the year 2022, and determine the respective contribution percentages to the overall sales in each country during that period."
            ]
        },
        {
            "cell_type": "code",
            "execution_count": 12,
            "metadata": {
                "azdata_cell_guid": "15e47960-be8b-4fd5-9395-8016a50d31a6",
                "language": "sql"
            },
            "outputs": [
                {
                    "data": {
                        "text/html": [
                            "Commands completed successfully."
                        ]
                    },
                    "metadata": {},
                    "output_type": "display_data"
                },
                {
                    "data": {
                        "text/html": [
                            "(7 rows affected)"
                        ]
                    },
                    "metadata": {},
                    "output_type": "display_data"
                },
                {
                    "data": {
                        "text/html": [
                            "Total execution time: 00:00:00.023"
                        ]
                    },
                    "metadata": {},
                    "output_type": "display_data"
                },
                {
                    "data": {
                        "application/vnd.dataresource+json": {
                            "data": [
                                {
                                    "Country": "Canada",
                                    "CountrySales": "31298.06",
                                    "Customer": "Laughing Bacchus Wine Cellars",
                                    "CustomerSales": "335.50",
                                    "Pct of Sales": "1.07%",
                                    "Year": "2022"
                                },
                                {
                                    "Country": "Canada",
                                    "CountrySales": "31298.06",
                                    "Customer": "Bottom-Dollar Markets",
                                    "CustomerSales": "7630.25",
                                    "Pct of Sales": "24.37%",
                                    "Year": "2022"
                                },
                                {
                                    "Country": "Canada",
                                    "CountrySales": "31298.06",
                                    "Customer": "Mère Paillarde",
                                    "CustomerSales": "23332.31",
                                    "Pct of Sales": "74.54%",
                                    "Year": "2022"
                                },
                                {
                                    "Country": "Mexico",
                                    "CountrySales": "14349.28",
                                    "Customer": "Pericles Comidas clásicas",
                                    "CustomerSales": "2065.40",
                                    "Pct of Sales": "14.39%",
                                    "Year": "2022"
                                },
                                {
                                    "Country": "Mexico",
                                    "CountrySales": "14349.28",
                                    "Customer": "Tortuga Restaurante",
                                    "CustomerSales": "5523.35",
                                    "Pct of Sales": "38.49%",
                                    "Year": "2022"
                                },
                                {
                                    "Country": "Mexico",
                                    "CountrySales": "14349.28",
                                    "Customer": "Antonio Moreno Taquería",
                                    "CustomerSales": "5960.78",
                                    "Pct of Sales": "41.54%",
                                    "Year": "2022"
                                },
                                {
                                    "Country": "Mexico",
                                    "CountrySales": "14349.28",
                                    "Customer": "Ana Trujillo Emparedados y helados",
                                    "CustomerSales": "799.75",
                                    "Pct of Sales": "5.57%",
                                    "Year": "2022"
                                }
                            ],
                            "schema": {
                                "fields": [
                                    {
                                        "name": "Year"
                                    },
                                    {
                                        "name": "Country"
                                    },
                                    {
                                        "name": "Customer"
                                    },
                                    {
                                        "name": "CountrySales"
                                    },
                                    {
                                        "name": "CustomerSales"
                                    },
                                    {
                                        "name": "Pct of Sales"
                                    }
                                ]
                            }
                        },
                        "text/html": [
                            "<table><tr><th>Year</th><th>Country</th><th>Customer</th><th>CountrySales</th><th>CustomerSales</th><th>Pct of Sales</th></tr><tr><td>2022</td><td>Canada</td><td>Laughing Bacchus Wine Cellars</td><td>31298.06</td><td>335.50</td><td>1.07%</td></tr><tr><td>2022</td><td>Canada</td><td>Bottom-Dollar Markets</td><td>31298.06</td><td>7630.25</td><td>24.37%</td></tr><tr><td>2022</td><td>Canada</td><td>Mère Paillarde</td><td>31298.06</td><td>23332.31</td><td>74.54%</td></tr><tr><td>2022</td><td>Mexico</td><td>Pericles Comidas clásicas</td><td>14349.28</td><td>2065.40</td><td>14.39%</td></tr><tr><td>2022</td><td>Mexico</td><td>Tortuga Restaurante</td><td>14349.28</td><td>5523.35</td><td>38.49%</td></tr><tr><td>2022</td><td>Mexico</td><td>Antonio Moreno Taquería</td><td>14349.28</td><td>5960.78</td><td>41.54%</td></tr><tr><td>2022</td><td>Mexico</td><td>Ana Trujillo Emparedados y helados</td><td>14349.28</td><td>799.75</td><td>5.57%</td></tr></table>"
                        ]
                    },
                    "execution_count": 12,
                    "metadata": {},
                    "output_type": "execute_result"
                }
            ],
            "source": [
                "USE TargetMart;\n",
                "GO\n",
                "\n",
                "WITH customers_cte AS\n",
                "(\n",
                "\tSELECT c.Customer\n",
                "\t\t  ,c.Country\n",
                "\t\t  ,cal.Year\n",
                "\t\t  ,round(sum(pp.LineTotal), 2) as CustomerSales\n",
                "\tFROM dim.Customers as c\n",
                "\t\tINNER JOIN f.ProductPerf as pp\n",
                "\t\tON c.pkCustomer = pp.fkCustomer\n",
                "\t\tINNER JOIN dim.Calendar as cal\n",
                "\t\tON pp.OrderDate = cal.pkCalendar\n",
                "\tWHERE c.Country in ('Canada', 'Mexico')\n",
                "\t\tAND cal.Year = 2022\n",
                "\tGROUP BY c.Customer, c.Country, cal.Year\n",
                ")\n",
                ",country_cte AS\n",
                "(\n",
                "\tSELECT c.Country\n",
                "\t\t  ,round(sum(pp.LineTotal), 2) as CountrySales\n",
                "\tFROM dim.Customers as c\n",
                "\t\tINNER JOIN f.ProductPerf as pp\n",
                "\t\tON c.pkCustomer = pp.fkCustomer\n",
                "\t\tINNER JOIN dim.Calendar as cal\n",
                "\t\tON cal.pkCalendar = pp.OrderDate\n",
                "\tWHERE c.Country in ('Canada', 'Mexico')\n",
                "\t\tAND cal.Year = 2022\n",
                "\tGROUP BY c.Country\n",
                ")\n",
                "\n",
                "SELECT cust.Year\n",
                "\t  ,cust.Country\n",
                "\t  ,cust.Customer\n",
                "\t  ,co.CountrySales\n",
                "\t  ,cust.CustomerSales\n",
                "\t  ,format((cust.CustomerSales / co.CountrySales),'P') as 'Pct of Sales'\n",
                "FROM customers_cte as cust\n",
                "\tINNER JOIN country_cte as co\n",
                "\tON co.Country = cust.Country\n",
                "ORDER BY cust.Country, 'Pct of Sales'\n",
                "\n"
            ]
        },
        {
            "attachments": {},
            "cell_type": "markdown",
            "metadata": {
                "azdata_cell_guid": "52a583c4-9a4f-4c1b-bcc7-95798f475aa9",
                "language": "sql"
            },
            "source": [
                "<svg xmlns=\"http://www.w3.org/2000/svg\" height=\"25\" width=\"16\" viewBox=\"0 0 384 512\"><!--!Font Awesome Free 6.5.1 by @fontawesome - https://fontawesome.com License - https://fontawesome.com/license/free Copyright 2023 Fonticons, Inc.--><path fill=\"#0056d6\" d=\"M64 0C28.7 0 0 28.7 0 64V448c0 35.3 28.7 64 64 64H320c35.3 0 64-28.7 64-64V64c0-35.3-28.7-64-64-64H64zm96 320h64c44.2 0 80 35.8 80 80c0 8.8-7.2 16-16 16H96c-8.8 0-16-7.2-16-16c0-44.2 35.8-80 80-80zm-32-96a64 64 0 1 1 128 0 64 64 0 1 1 -128 0zM144 64h96c8.8 0 16 7.2 16 16s-7.2 16-16 16H144c-8.8 0-16-7.2-16-16s7.2-16 16-16z\"/></svg> <svg xmlns=\"http://www.w3.org/2000/svg\" height=\"25\" width=\"25\" viewBox=\"0 0 512 512\"><!--!Font Awesome Free 6.5.1 by @fontawesome - https://fontawesome.com License - https://fontawesome.com/license/free Copyright 2023 Fonticons, Inc.--><path fill=\"#0056d6\" d=\"M184 48H328c4.4 0 8 3.6 8 8V96H176V56c0-4.4 3.6-8 8-8zm-56 8V96H64C28.7 96 0 124.7 0 160v96H192 320 512V160c0-35.3-28.7-64-64-64H384V56c0-30.9-25.1-56-56-56H184c-30.9 0-56 25.1-56 56zM512 288H320v32c0 17.7-14.3 32-32 32H224c-17.7 0-32-14.3-32-32V288H0V416c0 35.3 28.7 64 64 64H448c35.3 0 64-28.7 64-64V288z\"/></svg>\n",
                "\n",
                "**Objective** - Identify employees who did not meet the minimum order count of 5 in March 2023."
            ]
        },
        {
            "cell_type": "code",
            "execution_count": 3,
            "metadata": {
                "azdata_cell_guid": "523f93f9-da74-4f12-9c41-6b8a81b0b9ce",
                "language": "sql"
            },
            "outputs": [
                {
                    "data": {
                        "text/html": [
                            "Commands completed successfully."
                        ]
                    },
                    "metadata": {},
                    "output_type": "display_data"
                },
                {
                    "data": {
                        "text/html": [
                            "(2 rows affected)"
                        ]
                    },
                    "metadata": {},
                    "output_type": "display_data"
                },
                {
                    "data": {
                        "text/html": [
                            "Total execution time: 00:00:00.019"
                        ]
                    },
                    "metadata": {},
                    "output_type": "display_data"
                },
                {
                    "data": {
                        "application/vnd.dataresource+json": {
                            "data": [
                                {
                                    "Employee": "Robert King",
                                    "MonthName": "March",
                                    "OrderCount": "4",
                                    "Year": "2023"
                                },
                                {
                                    "Employee": "Steven Buchanan",
                                    "MonthName": "March",
                                    "OrderCount": "2",
                                    "Year": "2023"
                                }
                            ],
                            "schema": {
                                "fields": [
                                    {
                                        "name": "Employee"
                                    },
                                    {
                                        "name": "Year"
                                    },
                                    {
                                        "name": "MonthName"
                                    },
                                    {
                                        "name": "OrderCount"
                                    }
                                ]
                            }
                        },
                        "text/html": [
                            "<table><tr><th>Employee</th><th>Year</th><th>MonthName</th><th>OrderCount</th></tr><tr><td>Robert King</td><td>2023</td><td>March</td><td>4</td></tr><tr><td>Steven Buchanan</td><td>2023</td><td>March</td><td>2</td></tr></table>"
                        ]
                    },
                    "execution_count": 3,
                    "metadata": {},
                    "output_type": "execute_result"
                }
            ],
            "source": [
                "USE TargetMart;\n",
                "GO\n",
                "\n",
                "DECLARE @OrderMin int = 5\n",
                "\n",
                "SELECT emp.Employee\n",
                "\t  ,cal.Year\n",
                "\t  ,cal.MonthName\n",
                "\t  ,count(*) as OrderCount\n",
                "FROM f.OrderPerf as op\n",
                "\tINNER JOIN dim.Calendar as cal\n",
                "\tON cal.pkCalendar = op.fkCalendar\n",
                "\tINNER JOIN dim.Employees as emp\n",
                "\tON emp.pkEmployeeID = op.fkEmployee\n",
                "WHERE cal.Year = 2023 \n",
                "\tAND cal.Month = 3\n",
                "GROUP BY emp.Employee, cal.Year, cal.MonthName\n",
                "HAVING count(*) < @OrderMin\n",
                "ORDER BY OrderCount DESC"
            ]
        }
    ],
    "metadata": {
        "kernelspec": {
            "display_name": "SQL",
            "language": "sql",
            "name": "SQL"
        },
        "language_info": {
            "name": "sql",
            "version": ""
        }
    },
    "nbformat": 4,
    "nbformat_minor": 2
}
