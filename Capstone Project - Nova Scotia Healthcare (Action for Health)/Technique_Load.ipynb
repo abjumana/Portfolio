{
 "cells": [
  {
   "cell_type": "markdown",
   "id": "e56c2be8-2cbe-4137-a85f-7b7ec3e40e6d",
   "metadata": {},
   "source": [
    "https://data.novascotia.ca/Health-and-Wellness/Action-for-Health/m9ng-y7cu/about_data  \n",
    "https://public.tableau.com/app/profile/nova.scotia.health/viz/ActionforHealth-PublicReporting/Overview"
   ]
  },
  {
   "cell_type": "code",
   "execution_count": 1,
   "id": "2d73c81c-05f0-492b-a19e-bdca31f331b3",
   "metadata": {},
   "outputs": [],
   "source": [
    "import pandas as pd"
   ]
  },
  {
   "cell_type": "markdown",
   "id": "cd03a048-4bdc-42c3-b627-db3289d0dc11",
   "metadata": {},
   "source": [
    "Function to replace nulls"
   ]
  },
  {
   "cell_type": "code",
   "execution_count": 2,
   "id": "0f41cd3f-913e-4fce-aa30-dc7f8cba75c8",
   "metadata": {},
   "outputs": [],
   "source": [
    "def replaceNulls(column, value):\n",
    "    \"\"\"Replaces nulls. Input column with nulls and value to replace them with.\n",
    "    \"\"\"\n",
    "    df[column] = df[column].fillna(value)"
   ]
  },
  {
   "cell_type": "markdown",
   "id": "1c61f038-1fd3-4162-8e99-fc3ecc5fe308",
   "metadata": {},
   "source": [
    "Functions to create lookups and map them for fact table"
   ]
  },
  {
   "cell_type": "code",
   "execution_count": 3,
   "id": "cfb84ef6-0ea6-4699-b56a-fe68c0decd84",
   "metadata": {},
   "outputs": [],
   "source": [
    "def lup(ser):\n",
    "    \"\"\"Pass in a series to the function. The function will return two dictionaries in a tuple\n",
    "    Based on the unique fields in the series:\n",
    "    1) a dictionary to be used as the basis for a dimension,\n",
    "    2) a lookup to be used to encode the fact table\n",
    "    \"\"\"\n",
    "    ser_dict = dict(enumerate(ser.unique(), start=1))\n",
    "    ser_lup = {value: key for key, value in ser_dict.items()}\n",
    "    return ser_dict, ser_lup\n",
    "\n",
    "def lup_map(df, column_name):\n",
    "    \"\"\"Maps the lookups created in the lup(ser) function.\n",
    "    Adds '_ID' to column name.\n",
    "    \"\"\"\n",
    "    ser = df[column_name]\n",
    "    ser_dict, ser_lup = lup(ser)\n",
    "    df[column_name+'_ID'] = ser.map(ser_lup)\n",
    "    return ser_dict, ser_lup"
   ]
  },
  {
   "cell_type": "markdown",
   "id": "feddfe46-a052-4db7-b168-d3640a27e91c",
   "metadata": {},
   "source": [
    "Functions for dim builds"
   ]
  },
  {
   "cell_type": "code",
   "execution_count": 4,
   "id": "39390e50-ed90-4859-b1e0-0a4eb644295b",
   "metadata": {},
   "outputs": [],
   "source": [
    "def build_cal_dim(start_date, end_date):\n",
    "    date_range = pd.date_range(start=start_date, end=end_date)\n",
    "    cal_df = pd.DataFrame(date_range, columns=['date'])\n",
    "    cal_df['Year'] = cal_df['date'].dt.year\n",
    "    cal_df['Month'] = cal_df['date'].dt.month\n",
    "    cal_df['Day'] = cal_df['date'].dt.day\n",
    "    return cal_df\n",
    "\n",
    "def df_dims(df, ser1, ser2):\n",
    "    \"\"\"\n",
    "    Returns a new dateframe with selected columns and drops duplicates.\n",
    "    - df: The original df.\n",
    "    - ser1: First column for your new df and is the subset for duplicate removal.\n",
    "    - ser2: Second column for your new df.\n",
    "    \"\"\"\n",
    "    return df[[ser1, ser2]].drop_duplicates(subset=ser1)"
   ]
  },
  {
   "cell_type": "code",
   "execution_count": 5,
   "id": "c4f1842b-7053-4d5e-ab54-431c5f71f5e6",
   "metadata": {},
   "outputs": [
    {
     "data": {
      "text/html": [
       "<div>\n",
       "<style scoped>\n",
       "    .dataframe tbody tr th:only-of-type {\n",
       "        vertical-align: middle;\n",
       "    }\n",
       "\n",
       "    .dataframe tbody tr th {\n",
       "        vertical-align: top;\n",
       "    }\n",
       "\n",
       "    .dataframe thead th {\n",
       "        text-align: right;\n",
       "    }\n",
       "</style>\n",
       "<table border=\"1\" class=\"dataframe\">\n",
       "  <thead>\n",
       "    <tr style=\"text-align: right;\">\n",
       "      <th></th>\n",
       "      <th>Zone</th>\n",
       "      <th>Hospital</th>\n",
       "      <th>Type</th>\n",
       "      <th>Date</th>\n",
       "      <th>Measure Name</th>\n",
       "      <th>Actual</th>\n",
       "      <th>CTAS</th>\n",
       "    </tr>\n",
       "  </thead>\n",
       "  <tbody>\n",
       "    <tr>\n",
       "      <th>0</th>\n",
       "      <td>Central</td>\n",
       "      <td>Dartmouth General Hospital</td>\n",
       "      <td>Regional Hospital</td>\n",
       "      <td>2021-01-01</td>\n",
       "      <td>Acute Occupancy</td>\n",
       "      <td>93.478</td>\n",
       "      <td>NaN</td>\n",
       "    </tr>\n",
       "    <tr>\n",
       "      <th>1</th>\n",
       "      <td>Central</td>\n",
       "      <td>Dartmouth General Hospital</td>\n",
       "      <td>Regional Hospital</td>\n",
       "      <td>2021-04-01</td>\n",
       "      <td>Acute Occupancy</td>\n",
       "      <td>80.797</td>\n",
       "      <td>NaN</td>\n",
       "    </tr>\n",
       "    <tr>\n",
       "      <th>2</th>\n",
       "      <td>Central</td>\n",
       "      <td>Dartmouth General Hospital</td>\n",
       "      <td>Regional Hospital</td>\n",
       "      <td>2021-05-01</td>\n",
       "      <td>Acute Occupancy</td>\n",
       "      <td>78.612</td>\n",
       "      <td>NaN</td>\n",
       "    </tr>\n",
       "    <tr>\n",
       "      <th>3</th>\n",
       "      <td>Central</td>\n",
       "      <td>Dartmouth General Hospital</td>\n",
       "      <td>Regional Hospital</td>\n",
       "      <td>2021-06-01</td>\n",
       "      <td>Acute Occupancy</td>\n",
       "      <td>75.525</td>\n",
       "      <td>NaN</td>\n",
       "    </tr>\n",
       "    <tr>\n",
       "      <th>4</th>\n",
       "      <td>Central</td>\n",
       "      <td>Dartmouth General Hospital</td>\n",
       "      <td>Regional Hospital</td>\n",
       "      <td>2021-07-01</td>\n",
       "      <td>Acute Occupancy</td>\n",
       "      <td>80.172</td>\n",
       "      <td>NaN</td>\n",
       "    </tr>\n",
       "    <tr>\n",
       "      <th>...</th>\n",
       "      <td>...</td>\n",
       "      <td>...</td>\n",
       "      <td>...</td>\n",
       "      <td>...</td>\n",
       "      <td>...</td>\n",
       "      <td>...</td>\n",
       "      <td>...</td>\n",
       "    </tr>\n",
       "    <tr>\n",
       "      <th>12027</th>\n",
       "      <td>Western</td>\n",
       "      <td>Yarmouth Regional Hospital</td>\n",
       "      <td>Regional Hospital</td>\n",
       "      <td>2023-05-01</td>\n",
       "      <td>Total Occupancy</td>\n",
       "      <td>80.876</td>\n",
       "      <td>NaN</td>\n",
       "    </tr>\n",
       "    <tr>\n",
       "      <th>12028</th>\n",
       "      <td>Western</td>\n",
       "      <td>Yarmouth Regional Hospital</td>\n",
       "      <td>Regional Hospital</td>\n",
       "      <td>2023-06-01</td>\n",
       "      <td>Total Occupancy</td>\n",
       "      <td>74.740</td>\n",
       "      <td>NaN</td>\n",
       "    </tr>\n",
       "    <tr>\n",
       "      <th>12029</th>\n",
       "      <td>Western</td>\n",
       "      <td>Yarmouth Regional Hospital</td>\n",
       "      <td>Regional Hospital</td>\n",
       "      <td>2023-07-01</td>\n",
       "      <td>Total Occupancy</td>\n",
       "      <td>81.483</td>\n",
       "      <td>NaN</td>\n",
       "    </tr>\n",
       "    <tr>\n",
       "      <th>12030</th>\n",
       "      <td>Western</td>\n",
       "      <td>Yarmouth Regional Hospital</td>\n",
       "      <td>Regional Hospital</td>\n",
       "      <td>2023-08-01</td>\n",
       "      <td>Total Occupancy</td>\n",
       "      <td>85.840</td>\n",
       "      <td>NaN</td>\n",
       "    </tr>\n",
       "    <tr>\n",
       "      <th>12031</th>\n",
       "      <td>Western</td>\n",
       "      <td>Yarmouth Regional Hospital</td>\n",
       "      <td>Regional Hospital</td>\n",
       "      <td>2023-09-01</td>\n",
       "      <td>Total Occupancy</td>\n",
       "      <td>88.074</td>\n",
       "      <td>NaN</td>\n",
       "    </tr>\n",
       "  </tbody>\n",
       "</table>\n",
       "<p>12032 rows × 7 columns</p>\n",
       "</div>"
      ],
      "text/plain": [
       "          Zone                    Hospital               Type        Date  \\\n",
       "0      Central  Dartmouth General Hospital  Regional Hospital  2021-01-01   \n",
       "1      Central  Dartmouth General Hospital  Regional Hospital  2021-04-01   \n",
       "2      Central  Dartmouth General Hospital  Regional Hospital  2021-05-01   \n",
       "3      Central  Dartmouth General Hospital  Regional Hospital  2021-06-01   \n",
       "4      Central  Dartmouth General Hospital  Regional Hospital  2021-07-01   \n",
       "...        ...                         ...                ...         ...   \n",
       "12027  Western  Yarmouth Regional Hospital  Regional Hospital  2023-05-01   \n",
       "12028  Western  Yarmouth Regional Hospital  Regional Hospital  2023-06-01   \n",
       "12029  Western  Yarmouth Regional Hospital  Regional Hospital  2023-07-01   \n",
       "12030  Western  Yarmouth Regional Hospital  Regional Hospital  2023-08-01   \n",
       "12031  Western  Yarmouth Regional Hospital  Regional Hospital  2023-09-01   \n",
       "\n",
       "          Measure Name  Actual CTAS  \n",
       "0      Acute Occupancy  93.478  NaN  \n",
       "1      Acute Occupancy  80.797  NaN  \n",
       "2      Acute Occupancy  78.612  NaN  \n",
       "3      Acute Occupancy  75.525  NaN  \n",
       "4      Acute Occupancy  80.172  NaN  \n",
       "...                ...     ...  ...  \n",
       "12027  Total Occupancy  80.876  NaN  \n",
       "12028  Total Occupancy  74.740  NaN  \n",
       "12029  Total Occupancy  81.483  NaN  \n",
       "12030  Total Occupancy  85.840  NaN  \n",
       "12031  Total Occupancy  88.074  NaN  \n",
       "\n",
       "[12032 rows x 7 columns]"
      ]
     },
     "execution_count": 5,
     "metadata": {},
     "output_type": "execute_result"
    }
   ],
   "source": [
    "df = pd.read_csv('./Data/Action_for_Health_20240327.csv')\n",
    "df"
   ]
  },
  {
   "cell_type": "markdown",
   "id": "bc119a27-a9cb-46a9-bd1e-6698b62f96ec",
   "metadata": {},
   "source": [
    "### Handle nulls"
   ]
  },
  {
   "cell_type": "code",
   "execution_count": 6,
   "id": "0fc038d2-da67-417b-b062-31f01416edcb",
   "metadata": {},
   "outputs": [
    {
     "data": {
      "text/plain": [
       "Zone               0\n",
       "Hospital         791\n",
       "Type             791\n",
       "Date               0\n",
       "Measure Name       0\n",
       "Actual             0\n",
       "CTAS            6911\n",
       "dtype: int64"
      ]
     },
     "execution_count": 6,
     "metadata": {},
     "output_type": "execute_result"
    }
   ],
   "source": [
    "# hospital, type and CTAS have nulls\n",
    "df.isnull().sum()"
   ]
  },
  {
   "cell_type": "code",
   "execution_count": 7,
   "id": "54d905d5-f58e-4020-a5a7-888d4893a760",
   "metadata": {},
   "outputs": [],
   "source": [
    "replaceNulls('Hospital', 'N/A')\n",
    "replaceNulls('Type', 'N/A')\n",
    "replaceNulls('CTAS', 'Blank')"
   ]
  },
  {
   "cell_type": "markdown",
   "id": "d85b114a-69b0-4205-8daf-993401e8b1d3",
   "metadata": {},
   "source": [
    "### Create lookups, primary keys for dimensions "
   ]
  },
  {
   "cell_type": "code",
   "execution_count": 8,
   "id": "3d5cc829-583f-4379-8899-06b4e06a4772",
   "metadata": {},
   "outputs": [],
   "source": [
    "zone_dict, zone_lup = lup_map(df, 'Zone')\n",
    "\n",
    "type_dict, type_lup = lup_map(df, 'Type')\n",
    "\n",
    "hospital_dict, hospital_lup = lup_map(df, 'Hospital')\n",
    "\n",
    "measure_dict, measure_lup = lup_map(df, 'Measure Name')\n",
    "\n",
    "ctas_dict, ctas_lup = lup_map(df, 'CTAS')"
   ]
  },
  {
   "cell_type": "code",
   "execution_count": 9,
   "id": "4586ef18-a25b-4b0a-b60a-6abd2f985e37",
   "metadata": {},
   "outputs": [
    {
     "data": {
      "text/plain": [
       "('2020-01-01', '2023-09-01')"
      ]
     },
     "execution_count": 9,
     "metadata": {},
     "output_type": "execute_result"
    }
   ],
   "source": [
    "df['Date'].min(), df['Date'].max()"
   ]
  },
  {
   "cell_type": "code",
   "execution_count": 10,
   "id": "a4959054-8599-4de9-a9be-b6e29657d5aa",
   "metadata": {},
   "outputs": [
    {
     "data": {
      "text/html": [
       "<div>\n",
       "<style scoped>\n",
       "    .dataframe tbody tr th:only-of-type {\n",
       "        vertical-align: middle;\n",
       "    }\n",
       "\n",
       "    .dataframe tbody tr th {\n",
       "        vertical-align: top;\n",
       "    }\n",
       "\n",
       "    .dataframe thead th {\n",
       "        text-align: right;\n",
       "    }\n",
       "</style>\n",
       "<table border=\"1\" class=\"dataframe\">\n",
       "  <thead>\n",
       "    <tr style=\"text-align: right;\">\n",
       "      <th></th>\n",
       "      <th>date</th>\n",
       "      <th>Year</th>\n",
       "      <th>Month</th>\n",
       "      <th>Day</th>\n",
       "    </tr>\n",
       "  </thead>\n",
       "  <tbody>\n",
       "    <tr>\n",
       "      <th>0</th>\n",
       "      <td>2020-01-01</td>\n",
       "      <td>2020</td>\n",
       "      <td>1</td>\n",
       "      <td>1</td>\n",
       "    </tr>\n",
       "    <tr>\n",
       "      <th>1</th>\n",
       "      <td>2020-01-02</td>\n",
       "      <td>2020</td>\n",
       "      <td>1</td>\n",
       "      <td>2</td>\n",
       "    </tr>\n",
       "    <tr>\n",
       "      <th>2</th>\n",
       "      <td>2020-01-03</td>\n",
       "      <td>2020</td>\n",
       "      <td>1</td>\n",
       "      <td>3</td>\n",
       "    </tr>\n",
       "    <tr>\n",
       "      <th>3</th>\n",
       "      <td>2020-01-04</td>\n",
       "      <td>2020</td>\n",
       "      <td>1</td>\n",
       "      <td>4</td>\n",
       "    </tr>\n",
       "    <tr>\n",
       "      <th>4</th>\n",
       "      <td>2020-01-05</td>\n",
       "      <td>2020</td>\n",
       "      <td>1</td>\n",
       "      <td>5</td>\n",
       "    </tr>\n",
       "    <tr>\n",
       "      <th>...</th>\n",
       "      <td>...</td>\n",
       "      <td>...</td>\n",
       "      <td>...</td>\n",
       "      <td>...</td>\n",
       "    </tr>\n",
       "    <tr>\n",
       "      <th>1548</th>\n",
       "      <td>2024-03-28</td>\n",
       "      <td>2024</td>\n",
       "      <td>3</td>\n",
       "      <td>28</td>\n",
       "    </tr>\n",
       "    <tr>\n",
       "      <th>1549</th>\n",
       "      <td>2024-03-29</td>\n",
       "      <td>2024</td>\n",
       "      <td>3</td>\n",
       "      <td>29</td>\n",
       "    </tr>\n",
       "    <tr>\n",
       "      <th>1550</th>\n",
       "      <td>2024-03-30</td>\n",
       "      <td>2024</td>\n",
       "      <td>3</td>\n",
       "      <td>30</td>\n",
       "    </tr>\n",
       "    <tr>\n",
       "      <th>1551</th>\n",
       "      <td>2024-03-31</td>\n",
       "      <td>2024</td>\n",
       "      <td>3</td>\n",
       "      <td>31</td>\n",
       "    </tr>\n",
       "    <tr>\n",
       "      <th>1552</th>\n",
       "      <td>2024-04-01</td>\n",
       "      <td>2024</td>\n",
       "      <td>4</td>\n",
       "      <td>1</td>\n",
       "    </tr>\n",
       "  </tbody>\n",
       "</table>\n",
       "<p>1553 rows × 4 columns</p>\n",
       "</div>"
      ],
      "text/plain": [
       "           date  Year  Month  Day\n",
       "0    2020-01-01  2020      1    1\n",
       "1    2020-01-02  2020      1    2\n",
       "2    2020-01-03  2020      1    3\n",
       "3    2020-01-04  2020      1    4\n",
       "4    2020-01-05  2020      1    5\n",
       "...         ...   ...    ...  ...\n",
       "1548 2024-03-28  2024      3   28\n",
       "1549 2024-03-29  2024      3   29\n",
       "1550 2024-03-30  2024      3   30\n",
       "1551 2024-03-31  2024      3   31\n",
       "1552 2024-04-01  2024      4    1\n",
       "\n",
       "[1553 rows x 4 columns]"
      ]
     },
     "execution_count": 10,
     "metadata": {},
     "output_type": "execute_result"
    }
   ],
   "source": [
    "# calendar dimension\n",
    "cal_df = build_cal_dim('2020-01-01', '2024-04-01')\n",
    "cal_df"
   ]
  },
  {
   "cell_type": "code",
   "execution_count": 11,
   "id": "7cecdfb5-7e39-49c0-96d6-4755150d2d1f",
   "metadata": {},
   "outputs": [
    {
     "data": {
      "text/plain": [
       "1553"
      ]
     },
     "execution_count": 11,
     "metadata": {},
     "output_type": "execute_result"
    }
   ],
   "source": [
    "cal_df['date'].nunique()"
   ]
  },
  {
   "cell_type": "markdown",
   "id": "4e26ac53-d6d8-4d35-9c70-83d1ef57272a",
   "metadata": {},
   "source": [
    "### Column name edits"
   ]
  },
  {
   "cell_type": "code",
   "execution_count": 12,
   "id": "bcf08444-1697-479c-bd7c-d80bac072f56",
   "metadata": {},
   "outputs": [],
   "source": [
    "df.rename(columns={'Measure Name_ID':'Measure_ID'}, inplace=True)\n",
    "df.rename(columns={'Measure Name':'Measure'}, inplace=True)"
   ]
  },
  {
   "cell_type": "code",
   "execution_count": 13,
   "id": "848a0cc9-e92c-43b2-91a0-d4f3b8f874d8",
   "metadata": {},
   "outputs": [],
   "source": [
    "cal_df.rename(columns={'date':'Date'}, inplace=True)"
   ]
  },
  {
   "cell_type": "code",
   "execution_count": 14,
   "id": "fc8bff6c-a418-4847-9cb5-88823a37f92f",
   "metadata": {},
   "outputs": [
    {
     "data": {
      "text/plain": [
       "Index(['Zone', 'Hospital', 'Type', 'Date', 'Measure', 'Actual', 'CTAS',\n",
       "       'Zone_ID', 'Type_ID', 'Hospital_ID', 'Measure_ID', 'CTAS_ID'],\n",
       "      dtype='object')"
      ]
     },
     "execution_count": 14,
     "metadata": {},
     "output_type": "execute_result"
    }
   ],
   "source": [
    "df.columns"
   ]
  },
  {
   "cell_type": "markdown",
   "id": "b7d75361-620e-4b24-927a-7c777c86ca2b",
   "metadata": {},
   "source": [
    "### Dims and fact table builds"
   ]
  },
  {
   "cell_type": "code",
   "execution_count": 15,
   "id": "2fbf83f9-0fd7-476c-b342-ba23b7a4d23b",
   "metadata": {},
   "outputs": [],
   "source": [
    "zone_df = df_dims(df, 'Zone_ID', 'Zone')\n",
    "hospital_df = df_dims(df, 'Hospital_ID', 'Hospital')\n",
    "type_df = df_dims(df, 'Type_ID', 'Type')\n",
    "measure_df = df_dims(df, 'Measure_ID', 'Measure')\n",
    "ctas_df = df_dims(df, 'CTAS_ID', 'CTAS')"
   ]
  },
  {
   "cell_type": "code",
   "execution_count": 16,
   "id": "52fd8084-0789-4dc2-80ca-fa25911364a7",
   "metadata": {},
   "outputs": [
    {
     "data": {
      "text/html": [
       "<div>\n",
       "<style scoped>\n",
       "    .dataframe tbody tr th:only-of-type {\n",
       "        vertical-align: middle;\n",
       "    }\n",
       "\n",
       "    .dataframe tbody tr th {\n",
       "        vertical-align: top;\n",
       "    }\n",
       "\n",
       "    .dataframe thead th {\n",
       "        text-align: right;\n",
       "    }\n",
       "</style>\n",
       "<table border=\"1\" class=\"dataframe\">\n",
       "  <thead>\n",
       "    <tr style=\"text-align: right;\">\n",
       "      <th></th>\n",
       "      <th>Zone_ID</th>\n",
       "      <th>Zone</th>\n",
       "    </tr>\n",
       "  </thead>\n",
       "  <tbody>\n",
       "    <tr>\n",
       "      <th>0</th>\n",
       "      <td>1</td>\n",
       "      <td>Central</td>\n",
       "    </tr>\n",
       "    <tr>\n",
       "      <th>186</th>\n",
       "      <td>2</td>\n",
       "      <td>Eastern</td>\n",
       "    </tr>\n",
       "    <tr>\n",
       "      <th>496</th>\n",
       "      <td>3</td>\n",
       "      <td>IWK</td>\n",
       "    </tr>\n",
       "    <tr>\n",
       "      <th>527</th>\n",
       "      <td>4</td>\n",
       "      <td>Northern</td>\n",
       "    </tr>\n",
       "    <tr>\n",
       "      <th>680</th>\n",
       "      <td>5</td>\n",
       "      <td>Western</td>\n",
       "    </tr>\n",
       "    <tr>\n",
       "      <th>3249</th>\n",
       "      <td>6</td>\n",
       "      <td>NS</td>\n",
       "    </tr>\n",
       "  </tbody>\n",
       "</table>\n",
       "</div>"
      ],
      "text/plain": [
       "      Zone_ID      Zone\n",
       "0           1   Central\n",
       "186         2   Eastern\n",
       "496         3       IWK\n",
       "527         4  Northern\n",
       "680         5   Western\n",
       "3249        6        NS"
      ]
     },
     "execution_count": 16,
     "metadata": {},
     "output_type": "execute_result"
    }
   ],
   "source": [
    "zone_df"
   ]
  },
  {
   "cell_type": "code",
   "execution_count": 17,
   "id": "81d567fa-2b2c-42fb-b2df-ee9995da5678",
   "metadata": {},
   "outputs": [],
   "source": [
    "fact_df = df[['Date', 'Zone_ID', 'Type_ID', 'Hospital_ID', 'Measure_ID', 'Actual', 'CTAS_ID']]"
   ]
  },
  {
   "cell_type": "code",
   "execution_count": 18,
   "id": "c3caf1a6-f974-4572-827e-1e62feb69596",
   "metadata": {},
   "outputs": [
    {
     "data": {
      "text/html": [
       "<div>\n",
       "<style scoped>\n",
       "    .dataframe tbody tr th:only-of-type {\n",
       "        vertical-align: middle;\n",
       "    }\n",
       "\n",
       "    .dataframe tbody tr th {\n",
       "        vertical-align: top;\n",
       "    }\n",
       "\n",
       "    .dataframe thead th {\n",
       "        text-align: right;\n",
       "    }\n",
       "</style>\n",
       "<table border=\"1\" class=\"dataframe\">\n",
       "  <thead>\n",
       "    <tr style=\"text-align: right;\">\n",
       "      <th></th>\n",
       "      <th>Date</th>\n",
       "      <th>Zone_ID</th>\n",
       "      <th>Type_ID</th>\n",
       "      <th>Hospital_ID</th>\n",
       "      <th>Measure_ID</th>\n",
       "      <th>Actual</th>\n",
       "      <th>CTAS_ID</th>\n",
       "    </tr>\n",
       "  </thead>\n",
       "  <tbody>\n",
       "    <tr>\n",
       "      <th>0</th>\n",
       "      <td>2021-01-01</td>\n",
       "      <td>1</td>\n",
       "      <td>1</td>\n",
       "      <td>1</td>\n",
       "      <td>1</td>\n",
       "      <td>93.478</td>\n",
       "      <td>1</td>\n",
       "    </tr>\n",
       "    <tr>\n",
       "      <th>1</th>\n",
       "      <td>2021-04-01</td>\n",
       "      <td>1</td>\n",
       "      <td>1</td>\n",
       "      <td>1</td>\n",
       "      <td>1</td>\n",
       "      <td>80.797</td>\n",
       "      <td>1</td>\n",
       "    </tr>\n",
       "    <tr>\n",
       "      <th>2</th>\n",
       "      <td>2021-05-01</td>\n",
       "      <td>1</td>\n",
       "      <td>1</td>\n",
       "      <td>1</td>\n",
       "      <td>1</td>\n",
       "      <td>78.612</td>\n",
       "      <td>1</td>\n",
       "    </tr>\n",
       "    <tr>\n",
       "      <th>3</th>\n",
       "      <td>2021-06-01</td>\n",
       "      <td>1</td>\n",
       "      <td>1</td>\n",
       "      <td>1</td>\n",
       "      <td>1</td>\n",
       "      <td>75.525</td>\n",
       "      <td>1</td>\n",
       "    </tr>\n",
       "    <tr>\n",
       "      <th>4</th>\n",
       "      <td>2021-07-01</td>\n",
       "      <td>1</td>\n",
       "      <td>1</td>\n",
       "      <td>1</td>\n",
       "      <td>1</td>\n",
       "      <td>80.172</td>\n",
       "      <td>1</td>\n",
       "    </tr>\n",
       "    <tr>\n",
       "      <th>...</th>\n",
       "      <td>...</td>\n",
       "      <td>...</td>\n",
       "      <td>...</td>\n",
       "      <td>...</td>\n",
       "      <td>...</td>\n",
       "      <td>...</td>\n",
       "      <td>...</td>\n",
       "    </tr>\n",
       "    <tr>\n",
       "      <th>12027</th>\n",
       "      <td>2023-05-01</td>\n",
       "      <td>5</td>\n",
       "      <td>1</td>\n",
       "      <td>31</td>\n",
       "      <td>16</td>\n",
       "      <td>80.876</td>\n",
       "      <td>1</td>\n",
       "    </tr>\n",
       "    <tr>\n",
       "      <th>12028</th>\n",
       "      <td>2023-06-01</td>\n",
       "      <td>5</td>\n",
       "      <td>1</td>\n",
       "      <td>31</td>\n",
       "      <td>16</td>\n",
       "      <td>74.740</td>\n",
       "      <td>1</td>\n",
       "    </tr>\n",
       "    <tr>\n",
       "      <th>12029</th>\n",
       "      <td>2023-07-01</td>\n",
       "      <td>5</td>\n",
       "      <td>1</td>\n",
       "      <td>31</td>\n",
       "      <td>16</td>\n",
       "      <td>81.483</td>\n",
       "      <td>1</td>\n",
       "    </tr>\n",
       "    <tr>\n",
       "      <th>12030</th>\n",
       "      <td>2023-08-01</td>\n",
       "      <td>5</td>\n",
       "      <td>1</td>\n",
       "      <td>31</td>\n",
       "      <td>16</td>\n",
       "      <td>85.840</td>\n",
       "      <td>1</td>\n",
       "    </tr>\n",
       "    <tr>\n",
       "      <th>12031</th>\n",
       "      <td>2023-09-01</td>\n",
       "      <td>5</td>\n",
       "      <td>1</td>\n",
       "      <td>31</td>\n",
       "      <td>16</td>\n",
       "      <td>88.074</td>\n",
       "      <td>1</td>\n",
       "    </tr>\n",
       "  </tbody>\n",
       "</table>\n",
       "<p>12032 rows × 7 columns</p>\n",
       "</div>"
      ],
      "text/plain": [
       "             Date  Zone_ID  Type_ID  Hospital_ID  Measure_ID  Actual  CTAS_ID\n",
       "0      2021-01-01        1        1            1           1  93.478        1\n",
       "1      2021-04-01        1        1            1           1  80.797        1\n",
       "2      2021-05-01        1        1            1           1  78.612        1\n",
       "3      2021-06-01        1        1            1           1  75.525        1\n",
       "4      2021-07-01        1        1            1           1  80.172        1\n",
       "...           ...      ...      ...          ...         ...     ...      ...\n",
       "12027  2023-05-01        5        1           31          16  80.876        1\n",
       "12028  2023-06-01        5        1           31          16  74.740        1\n",
       "12029  2023-07-01        5        1           31          16  81.483        1\n",
       "12030  2023-08-01        5        1           31          16  85.840        1\n",
       "12031  2023-09-01        5        1           31          16  88.074        1\n",
       "\n",
       "[12032 rows x 7 columns]"
      ]
     },
     "execution_count": 18,
     "metadata": {},
     "output_type": "execute_result"
    }
   ],
   "source": [
    "fact_df"
   ]
  },
  {
   "cell_type": "markdown",
   "id": "b88d908c-0031-4c53-a9d6-e0cea5e04e2b",
   "metadata": {},
   "source": [
    "### Loading tables to MS SQL"
   ]
  },
  {
   "cell_type": "code",
   "execution_count": 19,
   "id": "fc8a7b21-5c36-490d-92ff-38cd3ece1831",
   "metadata": {},
   "outputs": [],
   "source": [
    "#pip3 install pyodbc\n",
    "from sqlalchemy import create_engine"
   ]
  },
  {
   "cell_type": "code",
   "execution_count": 20,
   "id": "381c1e6d-bcab-4495-b5a8-9d476655d728",
   "metadata": {},
   "outputs": [],
   "source": [
    "def connect_mssql(user, password, host, database):\n",
    "    \"\"\" Input your MS SQL user, password, host and database name.\n",
    "    This will create the engine required fo connection. Returns engine.\n",
    "    \"\"\"\n",
    "    engine = create_engine(f'mssql+pyodbc://{user}:{password}@{host}/{database}?driver=ODBC+Driver+17+for+SQL+Server')\n",
    "    return engine\n",
    "    \n",
    "def load(df, table_name, schema):\n",
    "    \"\"\" Input the dataframe you want to load, the table name you'd like for MS SQL,\n",
    "    and which schema to load the table to. Schemas must be created in MS SQL ahead of time.\n",
    "    This method uses the engine variable returned from connect_mssql function.\n",
    "    \"\"\"\n",
    "    df.to_sql(table_name, engine, schema=schema, if_exists='replace', index=False)"
   ]
  },
  {
   "cell_type": "code",
   "execution_count": 21,
   "id": "bd1fe75b-f1aa-4300-8861-91537ef6b60d",
   "metadata": {},
   "outputs": [],
   "source": [
    "# Create new database and schemas before connecting/loading\n",
    "\n",
    "engine = connect_mssql('sa', 'password', 'localhost', 'HospitalData')"
   ]
  },
  {
   "cell_type": "code",
   "execution_count": 22,
   "id": "68d8b56b-f220-456c-b545-8a9dc18231db",
   "metadata": {},
   "outputs": [],
   "source": [
    "load(fact_df, 'HospitalData', 'f')\n",
    "\n",
    "load(cal_df, 'Calendar', 'dim')\n",
    "\n",
    "load(zone_df, 'Zone', 'dim')\n",
    "\n",
    "load(type_df, 'Type', 'dim')\n",
    "\n",
    "load(hospital_df, 'Hospital', 'dim')\n",
    "\n",
    "load(measure_df, 'Measure', 'dim')\n",
    "\n",
    "load(ctas_df, 'CTAS', 'dim')"
   ]
  },
  {
   "cell_type": "code",
   "execution_count": null,
   "id": "80cd0613-6f97-457e-ae4c-32a9f84d2a0d",
   "metadata": {},
   "outputs": [],
   "source": []
  },
  {
   "cell_type": "code",
   "execution_count": null,
   "id": "cbc7d119-c2af-4315-a934-e8c26703e4b5",
   "metadata": {},
   "outputs": [],
   "source": [
    "# Encode the password\n",
    "\n",
    "from urllib.parse import quote_plus\n",
    "\n",
    "password = quote_plus('pass@@word')"
   ]
  },
  {
   "cell_type": "code",
   "execution_count": null,
   "id": "fdba83fd-6e39-42db-90c8-bd626149af09",
   "metadata": {},
   "outputs": [],
   "source": []
  },
  {
   "cell_type": "code",
   "execution_count": null,
   "id": "978306ea-0492-4dc9-ac1a-e1376b658a26",
   "metadata": {},
   "outputs": [],
   "source": []
  },
  {
   "cell_type": "code",
   "execution_count": null,
   "id": "bc98699b-2593-4e7f-8004-9ce8f83d792e",
   "metadata": {},
   "outputs": [],
   "source": []
  },
  {
   "cell_type": "code",
   "execution_count": null,
   "id": "055d52a5-bf1c-40bd-a666-821d980f2109",
   "metadata": {},
   "outputs": [],
   "source": []
  },
  {
   "cell_type": "code",
   "execution_count": null,
   "id": "4e762dc1-973a-443e-9e2f-7f7a2e530ea9",
   "metadata": {},
   "outputs": [],
   "source": []
  },
  {
   "cell_type": "code",
   "execution_count": null,
   "id": "bc1aea51-e454-4f00-bbe2-5f8f242364e5",
   "metadata": {},
   "outputs": [],
   "source": []
  },
  {
   "cell_type": "code",
   "execution_count": null,
   "id": "8952df2b-ed5f-4949-97ea-b55b0c597cff",
   "metadata": {},
   "outputs": [],
   "source": []
  },
  {
   "cell_type": "code",
   "execution_count": null,
   "id": "d3faedc5-898c-4488-add3-5ae216a8b1fd",
   "metadata": {},
   "outputs": [],
   "source": []
  }
 ],
 "metadata": {
  "kernelspec": {
   "display_name": "Python 3 (ipykernel)",
   "language": "python",
   "name": "python3"
  },
  "language_info": {
   "codemirror_mode": {
    "name": "ipython",
    "version": 3
   },
   "file_extension": ".py",
   "mimetype": "text/x-python",
   "name": "python",
   "nbconvert_exporter": "python",
   "pygments_lexer": "ipython3",
   "version": "3.11.8"
  }
 },
 "nbformat": 4,
 "nbformat_minor": 5
}
